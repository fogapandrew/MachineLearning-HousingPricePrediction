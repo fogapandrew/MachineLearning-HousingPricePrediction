{
 "cells": [
  {
   "cell_type": "markdown",
   "id": "472b7102",
   "metadata": {},
   "source": [
    "## DATA SOURCE"
   ]
  },
  {
   "cell_type": "markdown",
   "id": "31ef010f-032e-45c3-b7fc-e492d2ee2bd0",
   "metadata": {},
   "source": [
    "housing_data_challenge.csv -> Provided by Thomas More"
   ]
  },
  {
   "cell_type": "markdown",
   "id": "5bd39d69-1afe-44aa-92bd-52b0abae225c",
   "metadata": {},
   "source": [
    "#### Business Goal"
   ]
  },
  {
   "cell_type": "markdown",
   "id": "74887379",
   "metadata": {},
   "source": [
    "For your exam assignment you will build a model to predict housing prices. \n",
    "\n",
    "You have to construct a machine learning pipeline (this does not have to be an actual 'scikit-learn pipeline' but can just be consecutive sections in your notebook). Your pipeline features the following items, choose the order yourself but make sure that it is logical and avoids data leakage:\n",
    "\n",
    "Feature selection\n",
    "Loading in the dataset\n",
    "Finding and fixing missing values\n",
    "Feature engineering (create at least 3 new features)\n",
    "Cross validation\n",
    "Random forest model\n",
    "Tune model parameters\n",
    "\n",
    "A numeric performance quantification of your model (resulting from cross validation) e.g. RMSE calculation.\n",
    "A visual performance quantification e.g. a plot of actual vs predicted prices\n",
    "You upload a jupyter notebook with clear headers and a bit of explanatory text and your conclusions. As there are a large number of items to do, you can be concise. So for example, do not make 10 features as this just adds bulk to your notebook. An other example, demonstrate you can optimise the model parameters but do not optimise them to such an extent that your model takes multiple hours to train, so a bit of optimising is sufficient. etc, I think you understand. Just try to show me that you understand the technique and can use them."
   ]
  },
  {
   "cell_type": "code",
   "execution_count": null,
   "id": "86ba9668",
   "metadata": {},
   "outputs": [],
   "source": []
  },
  {
   "cell_type": "code",
   "execution_count": null,
   "id": "2dc84476",
   "metadata": {},
   "outputs": [],
   "source": []
  },
  {
   "cell_type": "markdown",
   "id": "a7b54c98",
   "metadata": {},
   "source": [
    "## NB : CROSS VALIDATION TAKES LONG TIME TO RUN, PLEASE GO THROUGH BEFORE RUNNING CELLS."
   ]
  },
  {
   "cell_type": "markdown",
   "id": "58474bd8",
   "metadata": {
    "tags": []
   },
   "source": [
    "### LIBRARIES"
   ]
  },
  {
   "cell_type": "code",
   "execution_count": 66,
   "id": "7cc0970a-6664-44e3-b782-cd8530c229a7",
   "metadata": {},
   "outputs": [],
   "source": [
    "import warnings"
   ]
  },
  {
   "cell_type": "code",
   "execution_count": 67,
   "id": "b38dbe03",
   "metadata": {
    "tags": []
   },
   "outputs": [],
   "source": [
    "import pandas as pd\n",
    "from sklearn.feature_selection import RFECV\n",
    "import numpy as np\n",
    "import seaborn as sns\n",
    "import matplotlib.pyplot as plt\n",
    "\n",
    "from sklearn.feature_selection import RFE\n",
    "from scipy.stats import zscore\n",
    "from sklearn.model_selection import train_test_split\n",
    "from sklearn.preprocessing import StandardScaler\n",
    "# Fill in the missing data using SimpleImputer\n",
    "from sklearn.impute import SimpleImputer\n",
    "from sklearn.feature_selection import RFE\n",
    "from sklearn.preprocessing import OneHotEncoder\n",
    "from sklearn.model_selection import KFold, GridSearchCV\n",
    "from sklearn.impute import SimpleImputer\n",
    "from sklearn.ensemble import IsolationForest, RandomForestRegressor\n",
    "from sklearn.metrics import mean_squared_error, mean_absolute_error, r2_score, explained_variance_score, mean_squared_log_error\n",
    "from sklearn.metrics import mean_squared_error\n",
    "from sklearn.preprocessing import StandardScaler\n",
    "from sklearn.pipeline import make_pipeline\n",
    "from sklearn.compose import ColumnTransformer\n",
    "from boruta import BorutaPy\n",
    "from sklearn.metrics import mean_squared_error, r2_score\n",
    "from sklearn import metrics\n",
    "import math\n",
    "import joblib\n",
    "\n",
    "\n",
    "# Control how warnings are displayed\n",
    "warnings.simplefilter(\"ignore\")\n",
    "import warnings"
   ]
  },
  {
   "cell_type": "code",
   "execution_count": null,
   "id": "c322be36",
   "metadata": {},
   "outputs": [],
   "source": []
  },
  {
   "cell_type": "markdown",
   "id": "607d1544",
   "metadata": {},
   "source": [
    "### UTILITIES FUNCTIONS "
   ]
  },
  {
   "cell_type": "code",
   "execution_count": 68,
   "id": "594df99c",
   "metadata": {},
   "outputs": [],
   "source": [
    "def get_data_directory_path():\n",
    "    \"\"\"\n",
    "        function is used to get path\n",
    "    \"\"\"\n",
    "    ROOT_DIR = os.getcwd()\n",
    "    # This is to extract the patent directory from the ful path(ETLSystem)\n",
    "    ROOT_DIR = os.path.dirname(ROOT_DIR)\n",
    "    DATA_DIR = os.path.join(ROOT_DIR, \"Rawdata\")\n",
    "\n",
    "    return DATA_DIR\n",
    "\n",
    "\n",
    "def draw_histograms(dataframe):\n",
    "    \"\"\"\n",
    "    This method takes a DataFrame and produces histograms for all columns with a normalized line.\n",
    "    \"\"\"\n",
    "    # Get the list of columns in the DataFrame\n",
    "    columns = dataframe.columns\n",
    "\n",
    "    # Set up the subplots\n",
    "    fig, axes = plt.subplots(nrows=len(columns), ncols=1, figsize=(8, 2 * len(columns)))\n",
    "\n",
    "    # Flatten axes if there's only one column\n",
    "    if len(columns) == 1:\n",
    "        axes = [axes]\n",
    "\n",
    "    # Draw histograms for each column with a normalized line\n",
    "    for i, column in enumerate(columns):\n",
    "        sns.histplot(dataframe[column], kde=True, ax=axes[i])\n",
    "        axes[i].set_title(f'Histogram for {column}')\n",
    "        axes[i].set_xlabel(column)\n",
    "\n",
    "    # Adjust layout\n",
    "    plt.tight_layout()\n",
    "    plt.show()\n",
    "    \n",
    "    \n",
    "def boxplot(data):\n",
    "    \"\"\"\n",
    "        This method is use to draw a boxplot graph.\n",
    "    \"\"\"\n",
    "    boxplot=data.boxplot(figsize=(12,5))\n",
    "    \n",
    "    \n",
    "def checknumberofmissingdata(data):\n",
    "    \"\"\"\n",
    "        Displays columns with missing values.\n",
    "    \"\"\"\n",
    "    return data.isnull().sum()\n",
    "\n",
    "\n",
    "def scatterplot(x , y):\n",
    "    # Create scatter plot\n",
    "    plt.scatter(x, y)\n",
    "\n",
    "    # Add labels and title\n",
    "    plt.xlabel(f'{x}')\n",
    "    plt.ylabel(f'{y}')\n",
    "    plt.title(f'Scatter Plot between {x} and {y}')\n",
    "\n",
    "    # Show the plot\n",
    "    plt.show()\n",
    "\n",
    "def correcting_outliers(data, colname):\n",
    "    \"\"\"\n",
    "        methods is use to deal with ouliers and returns the dataframe.it also takes the columname as argument\n",
    "    \"\"\"\n",
    "    q1 = data[colname].quantile(0.25)\n",
    "    q3 = data[colname].quantile(0.75)\n",
    "    IQR = q3 - q1\n",
    "    upper_limit = q3 + (1.5 * IQR)\n",
    "    lower_limit = q1 - (1.5 * IQR)\n",
    "    \n",
    "    # Create a copy of the column to avoid modifying the original data\n",
    "    corrected_column = data[colname].copy()\n",
    "    \n",
    "    # Replace values above the upper limit with the upper limit\n",
    "    corrected_column.loc[corrected_column > upper_limit] = upper_limit\n",
    "    \n",
    "    # Replace values below the lower limit with the lower limit\n",
    "    corrected_column.loc[corrected_column < lower_limit] = lower_limit\n",
    "    \n",
    "    # Update the data with the corrected column\n",
    "    data[colname] = corrected_column\n",
    "    \n",
    "    return data\n",
    "\n",
    "\n",
    "def one_hot_encode_column(dataframe, column_to_encode):\n",
    "    # Initialize the OneHotEncoder\n",
    "    onehot_encoder = OneHotEncoder(sparse=False)\n",
    "    \n",
    "    # Extract the column to be one-hot encoded\n",
    "    data_to_encode = dataframe[[column_to_encode]]\n",
    "    \n",
    "    # Fit and transform the data\n",
    "    onehot_encoded = onehot_encoder.fit_transform(data_to_encode)\n",
    "    \n",
    "    # Create a DataFrame with the one-hot encoded columns\n",
    "    onehot_encoded_df = pd.DataFrame(\n",
    "        onehot_encoded,\n",
    "        columns=onehot_encoder.get_feature_names_out([column_to_encode])\n",
    "    )\n",
    "    \n",
    "    # Concatenate the one-hot encoded DataFrame with the original dataset, dropping the original columns\n",
    "    data_encoded = pd.concat([dataframe, onehot_encoded_df], axis=1).drop(columns=[column_to_encode])\n",
    "    \n",
    "    return data_encoded\n",
    "\n",
    "def find_outliers_iqr(series):\n",
    "    q1 = series.quantile(0.25)\n",
    "    q3 = series.quantile(0.75)\n",
    "    iqr = q3 - q1\n",
    "    lower_bound = q1 - 1.5 * iqr\n",
    "    upper_bound = q3 + 1.5 * iqr\n",
    "    outliers = (series < lower_bound) | (series > upper_bound)\n",
    "    return outliers\n",
    "\n",
    "def plot_histograms_and_box_plots(numeri_col):\n",
    "    num_cols = len(numeri_col.columns)\n",
    "\n",
    "    # Set up subplots\n",
    "    fig, axes = plt.subplots(nrows=2, ncols=num_cols, figsize=(20, 8))\n",
    "    fig.suptitle('Histograms and Box Plots')\n",
    "\n",
    "    # Plot histograms and box plots\n",
    "    for i, col in enumerate(numeri_col.columns):\n",
    "        # Histogram\n",
    "        sns.histplot(numeri_col[col], bins=20, kde=True, ax=axes[0, i])\n",
    "        axes[0, i].set_title(f'{col} - Histogram')\n",
    "\n",
    "        # Box plot\n",
    "        sns.boxplot(x=numeri_col[col], ax=axes[1, i])\n",
    "        axes[1, i].set_title(f'{col} - Box Plot')\n",
    "\n",
    "    # Adjust layout\n",
    "    plt.tight_layout(rect=[0, 0, 1, 0.96])\n",
    "    plt.show()\n",
    "    \n",
    "def print_top_n_correlations(df, n=7):\n",
    "    # Calculate the correlation matrix\n",
    "    correlation_matrix = df.corr()\n",
    "\n",
    "    # Extract correlations with independent features and exclude self-correlations\n",
    "    independent_correlations = correlation_matrix.where(np.triu(np.ones(correlation_matrix.shape), k=1).astype(np.bool))\n",
    "\n",
    "    # Flatten the correlation matrix and sort in descending order\n",
    "    flattened_correlations = independent_correlations.unstack().sort_values(ascending=False)\n",
    "\n",
    "    # Print the top N correlations\n",
    "    print(f\"Top {n} unique correlations between independent features:\")\n",
    "    counter = 0\n",
    "    for (feature1, feature2), correlation in flattened_correlations.iteritems():\n",
    "        if not pd.isnull(correlation):  # Exclude NaN values\n",
    "            print(f\"{feature1} - {feature2}: {correlation}\")\n",
    "            counter += 1\n",
    "            if counter >= n:\n",
    "                break\n",
    "                \n",
    "def cap_outliers_iqr(data):\n",
    "    if isinstance(data, pd.DataFrame):\n",
    "        Q1 = data.quantile(0.25)\n",
    "        Q3 = data.quantile(0.75)\n",
    "        IQR = Q3 - Q1\n",
    "        lower_bound = Q1 - 1.5 * IQR\n",
    "        upper_bound = Q3 + 1.5 * IQR\n",
    "        data_capped = data.apply(lambda x: np.clip(x, lower_bound, upper_bound))\n",
    "    elif isinstance(data, pd.Series):\n",
    "        Q1 = data.quantile(0.25)\n",
    "        Q3 = data.quantile(0.75)\n",
    "        IQR = Q3 - Q1\n",
    "        lower_bound = Q1 - 1.5 * IQR\n",
    "        upper_bound = Q3 + 1.5 * IQR\n",
    "        data_capped = np.clip(data, lower_bound, upper_bound)\n",
    "    else:\n",
    "        raise ValueError(\"Input must be a DataFrame or a Series.\")\n",
    "    \n",
    "    return data_capped"
   ]
  },
  {
   "cell_type": "markdown",
   "id": "d6d2cefd",
   "metadata": {},
   "source": [
    "### Documentation of  fuctions "
   ]
  },
  {
   "cell_type": "markdown",
   "id": "681fded6",
   "metadata": {},
   "source": [
    "### Utility Functions\n",
    "- `draw_histograms(dataframe)`: produce histogram for all columns in the dataframe.\n",
    "- `boxplot(data)`: use to draw boxplot graph.\n",
    "- `checknumberofmissingdata(data)`: displays all missing values.\n",
    "- `scatterplot(x , y)`: use to draw scatterplot graph.\n",
    "- `correcting_outliers(data, colname)`: use to remove outliers using IQR, replacing outliers with upper and lower limits.\n",
    "- `one_hot_encode_column(dataframe, column_to_encode)`: use in encoding columns that are cartegorical and returns the entire data.\n",
    "- `find_outliers_iqr(series)`: Function to identify outliers using IQR.\n",
    "- `plot_histograms_and_box_plots(numeri_col)`: Function is use to plot histogram and box-plot of every numerical columns.\n"
   ]
  },
  {
   "cell_type": "code",
   "execution_count": null,
   "id": "53bcf0a3",
   "metadata": {},
   "outputs": [],
   "source": []
  },
  {
   "cell_type": "markdown",
   "id": "b0d1be86",
   "metadata": {},
   "source": [
    "### READING IN THE DATA"
   ]
  },
  {
   "cell_type": "code",
   "execution_count": 69,
   "id": "ec2fb9a2",
   "metadata": {},
   "outputs": [],
   "source": [
    "housingdata_df = pd.read_csv(\"housing_data_challenge.csv\" , sep =\";\")"
   ]
  },
  {
   "cell_type": "code",
   "execution_count": 113,
   "id": "61fd3d10-b16c-4ee9-aa07-91748c76bc54",
   "metadata": {},
   "outputs": [
    {
     "data": {
      "text/html": [
       "<div>\n",
       "<style scoped>\n",
       "    .dataframe tbody tr th:only-of-type {\n",
       "        vertical-align: middle;\n",
       "    }\n",
       "\n",
       "    .dataframe tbody tr th {\n",
       "        vertical-align: top;\n",
       "    }\n",
       "\n",
       "    .dataframe thead th {\n",
       "        text-align: right;\n",
       "    }\n",
       "</style>\n",
       "<table border=\"1\" class=\"dataframe\">\n",
       "  <thead>\n",
       "    <tr style=\"text-align: right;\">\n",
       "      <th></th>\n",
       "      <th>longitude</th>\n",
       "      <th>latitude</th>\n",
       "      <th>housing_median_age</th>\n",
       "      <th>total_rooms</th>\n",
       "      <th>total_bedrooms</th>\n",
       "      <th>population</th>\n",
       "      <th>households</th>\n",
       "      <th>median_income</th>\n",
       "      <th>median_house_value</th>\n",
       "      <th>ocean_proximity</th>\n",
       "    </tr>\n",
       "  </thead>\n",
       "  <tbody>\n",
       "    <tr>\n",
       "      <th>0</th>\n",
       "      <td>-121.25</td>\n",
       "      <td>37.95</td>\n",
       "      <td>40.0</td>\n",
       "      <td>1703.0</td>\n",
       "      <td>362.0</td>\n",
       "      <td>1208.0</td>\n",
       "      <td>373.0</td>\n",
       "      <td>2.0817</td>\n",
       "      <td>55300.0</td>\n",
       "      <td>INLAND</td>\n",
       "    </tr>\n",
       "    <tr>\n",
       "      <th>1</th>\n",
       "      <td>-116.00</td>\n",
       "      <td>34.12</td>\n",
       "      <td>32.0</td>\n",
       "      <td>3163.0</td>\n",
       "      <td>712.0</td>\n",
       "      <td>1358.0</td>\n",
       "      <td>544.0</td>\n",
       "      <td>2.1250</td>\n",
       "      <td>57700.0</td>\n",
       "      <td>INLAND</td>\n",
       "    </tr>\n",
       "    <tr>\n",
       "      <th>2</th>\n",
       "      <td>-116.48</td>\n",
       "      <td>33.61</td>\n",
       "      <td>8.0</td>\n",
       "      <td>1294.0</td>\n",
       "      <td>272.0</td>\n",
       "      <td>457.0</td>\n",
       "      <td>199.0</td>\n",
       "      <td>2.9167</td>\n",
       "      <td>115300.0</td>\n",
       "      <td>INLAND</td>\n",
       "    </tr>\n",
       "    <tr>\n",
       "      <th>3</th>\n",
       "      <td>-122.60</td>\n",
       "      <td>38.90</td>\n",
       "      <td>23.0</td>\n",
       "      <td>292.0</td>\n",
       "      <td>56.0</td>\n",
       "      <td>92.0</td>\n",
       "      <td>41.0</td>\n",
       "      <td>2.9583</td>\n",
       "      <td>91700.0</td>\n",
       "      <td>INLAND</td>\n",
       "    </tr>\n",
       "    <tr>\n",
       "      <th>4</th>\n",
       "      <td>-121.30</td>\n",
       "      <td>38.58</td>\n",
       "      <td>29.0</td>\n",
       "      <td>2748.0</td>\n",
       "      <td>563.0</td>\n",
       "      <td>1619.0</td>\n",
       "      <td>525.0</td>\n",
       "      <td>2.8966</td>\n",
       "      <td>92400.0</td>\n",
       "      <td>INLAND</td>\n",
       "    </tr>\n",
       "  </tbody>\n",
       "</table>\n",
       "</div>"
      ],
      "text/plain": [
       "   longitude  latitude  housing_median_age  total_rooms  total_bedrooms  \\\n",
       "0    -121.25     37.95                40.0       1703.0           362.0   \n",
       "1    -116.00     34.12                32.0       3163.0           712.0   \n",
       "2    -116.48     33.61                 8.0       1294.0           272.0   \n",
       "3    -122.60     38.90                23.0        292.0            56.0   \n",
       "4    -121.30     38.58                29.0       2748.0           563.0   \n",
       "\n",
       "   population  households  median_income  median_house_value ocean_proximity  \n",
       "0      1208.0       373.0         2.0817             55300.0          INLAND  \n",
       "1      1358.0       544.0         2.1250             57700.0          INLAND  \n",
       "2       457.0       199.0         2.9167            115300.0          INLAND  \n",
       "3        92.0        41.0         2.9583             91700.0          INLAND  \n",
       "4      1619.0       525.0         2.8966             92400.0          INLAND  "
      ]
     },
     "execution_count": 113,
     "metadata": {},
     "output_type": "execute_result"
    }
   ],
   "source": [
    "housingdata_df.head()"
   ]
  },
  {
   "cell_type": "markdown",
   "id": "632d77cb",
   "metadata": {},
   "source": [
    "### META DATA:  "
   ]
  },
  {
   "cell_type": "code",
   "execution_count": null,
   "id": "bd9852af",
   "metadata": {},
   "outputs": [],
   "source": []
  },
  {
   "cell_type": "markdown",
   "id": "186225a7",
   "metadata": {},
   "source": [
    "### A. EDA (EXPLORATORY DATA ANALYSIS)"
   ]
  },
  {
   "cell_type": "markdown",
   "id": "cf66f95c",
   "metadata": {},
   "source": [
    "In this section I am going to perform an exploratory data analysis on our data set so as to get insight of our data set, check on irregularities and understand pattern between inputs and output if any so as to prepare us for preprocessing and model building phase for our project."
   ]
  },
  {
   "cell_type": "code",
   "execution_count": 71,
   "id": "efe4117c",
   "metadata": {},
   "outputs": [],
   "source": [
    "class EDA:\n",
    "    \"\"\"\n",
    "        This is a class for exploratory data analysis with methods for exploring the data\n",
    "    \"\"\"\n",
    "    def __init__(self, extractedtext):\n",
    "        self.extractedtext = extractedtext\n",
    "\n",
    "    def aboutdata(self): \n",
    "        return self.extractedtext.info()\n",
    "\n",
    "    def summarystatistic(self):\n",
    "        return self.extractedtext.describe()\n",
    "\n",
    "    def shapeofdataframe(self):\n",
    "        return self.extractedtext.shape\n",
    "    \n",
    "    def datatypesofdifferentcol(self):\n",
    "        return self.extractedtext.dtypes\n",
    "\n",
    "    def correlation_heatmap(self):\n",
    "        correlation_matrix = self.extractedtext.corr()\n",
    "        # Set the size of the graph\n",
    "        plt.figure(figsize=(14, 10))\n",
    "        # Create a heatmap\n",
    "        sns.heatmap(correlation_matrix, annot=True, cmap='coolwarm')\n",
    "        # Add title\n",
    "        plt.title('Correlation Heatmap')\n",
    "        plt.show()\n",
    "        \n",
    "    def correlationbetweenoutputandinput(self):\n",
    "        return self.extractedtext.corr()['median_house_value'].sort_values()\n",
    "\n",
    "    def histogram_with_kde(self):\n",
    "        sns.distplot(self.extractedtext['median_house_value'], hist=True, kde=True,\n",
    "                     bins=int(30), color='darkblue',\n",
    "                     hist_kws={'edgecolor': 'black'},\n",
    "                     kde_kws={'linewidth': 2})\n",
    "        plt.title(f'Distribution of target')\n",
    "        plt.xlabel('target')\n",
    "        plt.ylabel('Density')\n",
    "        plt.show()"
   ]
  },
  {
   "cell_type": "code",
   "execution_count": null,
   "id": "158e74f6",
   "metadata": {},
   "outputs": [],
   "source": []
  },
  {
   "cell_type": "markdown",
   "id": "23631af9",
   "metadata": {},
   "source": [
    "#### Creating an object of our class EDA"
   ]
  },
  {
   "cell_type": "code",
   "execution_count": 72,
   "id": "30586b30",
   "metadata": {},
   "outputs": [],
   "source": [
    "EDAObject = EDA(housingdata_df)"
   ]
  },
  {
   "cell_type": "markdown",
   "id": "26664051",
   "metadata": {},
   "source": [
    "#### 1.0 Information about the dataframea"
   ]
  },
  {
   "cell_type": "code",
   "execution_count": 73,
   "id": "06efd193",
   "metadata": {},
   "outputs": [
    {
     "name": "stdout",
     "output_type": "stream",
     "text": [
      "<class 'pandas.core.frame.DataFrame'>\n",
      "RangeIndex: 18576 entries, 0 to 18575\n",
      "Data columns (total 10 columns):\n",
      " #   Column              Non-Null Count  Dtype  \n",
      "---  ------              --------------  -----  \n",
      " 0   longitude           18576 non-null  float64\n",
      " 1   latitude            18576 non-null  float64\n",
      " 2   housing_median_age  18576 non-null  float64\n",
      " 3   total_rooms         18576 non-null  float64\n",
      " 4   total_bedrooms      18388 non-null  float64\n",
      " 5   population          18576 non-null  float64\n",
      " 6   households          18576 non-null  float64\n",
      " 7   median_income       18576 non-null  float64\n",
      " 8   median_house_value  18576 non-null  float64\n",
      " 9   ocean_proximity     18576 non-null  object \n",
      "dtypes: float64(9), object(1)\n",
      "memory usage: 1.4+ MB\n",
      "None\n"
     ]
    }
   ],
   "source": [
    "print(EDAObject.aboutdata())"
   ]
  },
  {
   "cell_type": "markdown",
   "id": "0d68f240",
   "metadata": {},
   "source": [
    "Housing_data has a total of 18576 observations and 10 features. (longitude, latitude ,housing_median_age, total_rooms, total_bedrooms, population, households,median_income and median_house_value) has datatype float64 while ocean_proximity has datatype object.\n",
    "total_bedrooms has 18388 entries which is less than the maximum entry recorded in other features, we need to investigate why and also fix this in our preparation phase."
   ]
  },
  {
   "cell_type": "markdown",
   "id": "0260ea60",
   "metadata": {},
   "source": [
    "#### 1.1 Summary statistics"
   ]
  },
  {
   "cell_type": "code",
   "execution_count": 74,
   "id": "30ff9f00",
   "metadata": {},
   "outputs": [
    {
     "data": {
      "text/html": [
       "<div>\n",
       "<style scoped>\n",
       "    .dataframe tbody tr th:only-of-type {\n",
       "        vertical-align: middle;\n",
       "    }\n",
       "\n",
       "    .dataframe tbody tr th {\n",
       "        vertical-align: top;\n",
       "    }\n",
       "\n",
       "    .dataframe thead th {\n",
       "        text-align: right;\n",
       "    }\n",
       "</style>\n",
       "<table border=\"1\" class=\"dataframe\">\n",
       "  <thead>\n",
       "    <tr style=\"text-align: right;\">\n",
       "      <th></th>\n",
       "      <th>longitude</th>\n",
       "      <th>latitude</th>\n",
       "      <th>housing_median_age</th>\n",
       "      <th>total_rooms</th>\n",
       "      <th>total_bedrooms</th>\n",
       "      <th>population</th>\n",
       "      <th>households</th>\n",
       "      <th>median_income</th>\n",
       "      <th>median_house_value</th>\n",
       "    </tr>\n",
       "  </thead>\n",
       "  <tbody>\n",
       "    <tr>\n",
       "      <th>count</th>\n",
       "      <td>18576.000000</td>\n",
       "      <td>18576.000000</td>\n",
       "      <td>18576.000000</td>\n",
       "      <td>18576.000000</td>\n",
       "      <td>18388.000000</td>\n",
       "      <td>18576.000000</td>\n",
       "      <td>18576.000000</td>\n",
       "      <td>18576.000000</td>\n",
       "      <td>18576.000000</td>\n",
       "    </tr>\n",
       "    <tr>\n",
       "      <th>mean</th>\n",
       "      <td>-119.563730</td>\n",
       "      <td>35.627052</td>\n",
       "      <td>28.657192</td>\n",
       "      <td>2633.559916</td>\n",
       "      <td>537.537524</td>\n",
       "      <td>1424.686746</td>\n",
       "      <td>498.951820</td>\n",
       "      <td>3.876364</td>\n",
       "      <td>206864.619671</td>\n",
       "    </tr>\n",
       "    <tr>\n",
       "      <th>std</th>\n",
       "      <td>2.001352</td>\n",
       "      <td>2.134321</td>\n",
       "      <td>12.614083</td>\n",
       "      <td>2175.784573</td>\n",
       "      <td>420.993441</td>\n",
       "      <td>1132.373751</td>\n",
       "      <td>381.328659</td>\n",
       "      <td>1.908169</td>\n",
       "      <td>115448.691679</td>\n",
       "    </tr>\n",
       "    <tr>\n",
       "      <th>min</th>\n",
       "      <td>-124.350000</td>\n",
       "      <td>32.540000</td>\n",
       "      <td>1.000000</td>\n",
       "      <td>2.000000</td>\n",
       "      <td>1.000000</td>\n",
       "      <td>3.000000</td>\n",
       "      <td>1.000000</td>\n",
       "      <td>0.499900</td>\n",
       "      <td>14999.000000</td>\n",
       "    </tr>\n",
       "    <tr>\n",
       "      <th>25%</th>\n",
       "      <td>-121.780000</td>\n",
       "      <td>33.930000</td>\n",
       "      <td>18.000000</td>\n",
       "      <td>1444.000000</td>\n",
       "      <td>295.000000</td>\n",
       "      <td>788.000000</td>\n",
       "      <td>279.000000</td>\n",
       "      <td>2.564300</td>\n",
       "      <td>119400.000000</td>\n",
       "    </tr>\n",
       "    <tr>\n",
       "      <th>50%</th>\n",
       "      <td>-118.490000</td>\n",
       "      <td>34.250000</td>\n",
       "      <td>29.000000</td>\n",
       "      <td>2129.000000</td>\n",
       "      <td>434.500000</td>\n",
       "      <td>1167.000000</td>\n",
       "      <td>409.000000</td>\n",
       "      <td>3.534800</td>\n",
       "      <td>179700.000000</td>\n",
       "    </tr>\n",
       "    <tr>\n",
       "      <th>75%</th>\n",
       "      <td>-118.000000</td>\n",
       "      <td>37.710000</td>\n",
       "      <td>37.000000</td>\n",
       "      <td>3145.000000</td>\n",
       "      <td>645.000000</td>\n",
       "      <td>1724.000000</td>\n",
       "      <td>604.000000</td>\n",
       "      <td>4.750000</td>\n",
       "      <td>264700.000000</td>\n",
       "    </tr>\n",
       "    <tr>\n",
       "      <th>max</th>\n",
       "      <td>-114.310000</td>\n",
       "      <td>41.950000</td>\n",
       "      <td>52.000000</td>\n",
       "      <td>39320.000000</td>\n",
       "      <td>6445.000000</td>\n",
       "      <td>35682.000000</td>\n",
       "      <td>6082.000000</td>\n",
       "      <td>15.000100</td>\n",
       "      <td>500001.000000</td>\n",
       "    </tr>\n",
       "  </tbody>\n",
       "</table>\n",
       "</div>"
      ],
      "text/plain": [
       "          longitude      latitude  housing_median_age   total_rooms  \\\n",
       "count  18576.000000  18576.000000        18576.000000  18576.000000   \n",
       "mean    -119.563730     35.627052           28.657192   2633.559916   \n",
       "std        2.001352      2.134321           12.614083   2175.784573   \n",
       "min     -124.350000     32.540000            1.000000      2.000000   \n",
       "25%     -121.780000     33.930000           18.000000   1444.000000   \n",
       "50%     -118.490000     34.250000           29.000000   2129.000000   \n",
       "75%     -118.000000     37.710000           37.000000   3145.000000   \n",
       "max     -114.310000     41.950000           52.000000  39320.000000   \n",
       "\n",
       "       total_bedrooms    population    households  median_income  \\\n",
       "count    18388.000000  18576.000000  18576.000000   18576.000000   \n",
       "mean       537.537524   1424.686746    498.951820       3.876364   \n",
       "std        420.993441   1132.373751    381.328659       1.908169   \n",
       "min          1.000000      3.000000      1.000000       0.499900   \n",
       "25%        295.000000    788.000000    279.000000       2.564300   \n",
       "50%        434.500000   1167.000000    409.000000       3.534800   \n",
       "75%        645.000000   1724.000000    604.000000       4.750000   \n",
       "max       6445.000000  35682.000000   6082.000000      15.000100   \n",
       "\n",
       "       median_house_value  \n",
       "count        18576.000000  \n",
       "mean        206864.619671  \n",
       "std         115448.691679  \n",
       "min          14999.000000  \n",
       "25%         119400.000000  \n",
       "50%         179700.000000  \n",
       "75%         264700.000000  \n",
       "max         500001.000000  "
      ]
     },
     "execution_count": 74,
     "metadata": {},
     "output_type": "execute_result"
    }
   ],
   "source": [
    "EDAObject.summarystatistic()"
   ]
  },
  {
   "cell_type": "code",
   "execution_count": null,
   "id": "2f35e634",
   "metadata": {},
   "outputs": [],
   "source": []
  },
  {
   "cell_type": "markdown",
   "id": "8dc36df0",
   "metadata": {},
   "source": [
    " From the summary statistcs we can get the following observation : \n",
    "    - longitude : The mininmum value is -124.350000 and maximum value is -114.310000. The mean is -119.563730 and it has a low standard deviation from the mean value, means this feature is good and has no outliers or irregularity. \n",
    "    \n",
    "    - latitude \t: The mininmum value is 32.540000 and maximum value is 41.950000. The mean is 35.627052  and it has a low standard deviation from the mean value, means this feature is good and has no outliers or irregularity. \n",
    "    \n",
    "    - housing_median_age : The mininmum value is 1.000000  and maximum value is 41.950000. The mean is 52.000000  and it has a low standard deviation from the mean value, means this feature is good and has no outliers or irregularity. \n",
    "   \n",
    "    - total_rooms : The mininmum value is 2.000000  and maximum value is 39320.000000. The mean is 2633.559916  and it has a high standard deviation from the mean value, means this feature has some irregularities and has to be investigated and fixed.\n",
    "   \n",
    "    - total_bedrooms : The mininmum value is 1.000000  and maximum value is 6445.000. The mean is 420.993441  and it has a high standard deviation from the mean value, means this feature has some irregularities and has to be investigated and fixed.\n",
    "    \n",
    "    - population : The mininmum value is 3.000000 and maximum value is 35682.000000. The mean is 1424.686746 and it has a high standard deviation from the mean value, means this feature has some irregularities and has to be investigated and fixed.\n",
    "    \n",
    "    - median_income : The mininmum value is 0.499900 and maximum value is 15.000100. The mean is 3.876364 and it has a high standard deviation from the mean value, means this feature has some irregularities and has to be investigated and fixed.\n",
    "    \n",
    "    - households :  The mininmum value is 1.000000 and maximum value is 6082.000000. The mean is 381.328659 and it has a high standard deviation from the mean value, means this feature has some irregularities and has to be investigated and fixed."
   ]
  },
  {
   "cell_type": "code",
   "execution_count": null,
   "id": "b57c97aa",
   "metadata": {},
   "outputs": [],
   "source": []
  },
  {
   "cell_type": "markdown",
   "id": "0ddc2abd",
   "metadata": {},
   "source": [
    "#### 1.2 Shape of the dataframe"
   ]
  },
  {
   "cell_type": "code",
   "execution_count": 75,
   "id": "4cb16021",
   "metadata": {},
   "outputs": [
    {
     "name": "stdout",
     "output_type": "stream",
     "text": [
      "(18576, 10)\n"
     ]
    }
   ],
   "source": [
    "print(EDAObject.shapeofdataframe())"
   ]
  },
  {
   "cell_type": "raw",
   "id": "0a7a3d50-a50e-4345-998f-e207fa76b134",
   "metadata": {},
   "source": [
    "From above we see that out data set has a total of 18576 observation and a total of 10 features."
   ]
  },
  {
   "cell_type": "code",
   "execution_count": null,
   "id": "d837605f-743e-4832-af38-accccc02a8d9",
   "metadata": {},
   "outputs": [],
   "source": []
  },
  {
   "cell_type": "markdown",
   "id": "16f089df",
   "metadata": {},
   "source": [
    "#### 1.3 Correlation - >Heatmap"
   ]
  },
  {
   "cell_type": "code",
   "execution_count": 76,
   "id": "618a49af",
   "metadata": {},
   "outputs": [
    {
     "data": {
      "image/png": "[encoded data removed]",
      "text/plain": [
       "<Figure size 1008x720 with 2 Axes>"
      ]
     },
     "metadata": {
      "needs_background": "light"
     },
     "output_type": "display_data"
    }
   ],
   "source": [
    "EDAObject.correlation_heatmap()"
   ]
  },
  {
   "cell_type": "code",
   "execution_count": 77,
   "id": "adce3279",
   "metadata": {},
   "outputs": [
    {
     "name": "stdout",
     "output_type": "stream",
     "text": [
      "latitude             -0.145129\n",
      "longitude            -0.044562\n",
      "population           -0.027507\n",
      "total_bedrooms        0.045861\n",
      "households            0.062386\n",
      "housing_median_age    0.105739\n",
      "total_rooms           0.131598\n",
      "median_income         0.688631\n",
      "median_house_value    1.000000\n",
      "Name: median_house_value, dtype: float64\n"
     ]
    }
   ],
   "source": [
    "print(EDAObject.correlationbetweenoutputandinput())"
   ]
  },
  {
   "cell_type": "markdown",
   "id": "c7e73960",
   "metadata": {},
   "source": [
    "After performing correlation analysis between all feature, here are my findings: \n",
    "    -> Mean_income has a strong positve correlation with the predicted varibale median_house_value.\n",
    "    -> total_rooms , housing_median_age, households and total_bedrooms has a weak positive correlation with the predicted varibale median_house_value.\n",
    "    -> latitude ,longitude and population has a weak negative correlation with the predicted varibale median_house_value."
   ]
  },
  {
   "cell_type": "code",
   "execution_count": 78,
   "id": "664a695a",
   "metadata": {},
   "outputs": [],
   "source": [
    "numerical_col = housingdata_df.drop(['ocean_proximity'] , axis = 1)"
   ]
  },
  {
   "cell_type": "code",
   "execution_count": 79,
   "id": "b8a04b5e-0220-4dab-a261-1a5c52dc652d",
   "metadata": {},
   "outputs": [
    {
     "name": "stdout",
     "output_type": "stream",
     "text": [
      "Top 7 unique correlations between independent features:\n",
      "households - total_bedrooms: 0.9789172813928351\n",
      "total_bedrooms - total_rooms: 0.9299250315978743\n",
      "households - total_rooms: 0.9175261533661458\n",
      "households - population: 0.9061464139611632\n",
      "population - total_bedrooms: 0.8753221645240294\n",
      "population - total_rooms: 0.8546958922986058\n",
      "median_house_value - median_income: 0.6886309170981911\n"
     ]
    }
   ],
   "source": [
    "print_top_n_correlations(numerical_col, n=7)"
   ]
  },
  {
   "cell_type": "markdown",
   "id": "c570c4ab",
   "metadata": {},
   "source": [
    "we see that there exist some correlation between the independent variable.With this information we can use in our feature selection to decide which feature can be remove base on it relevance and effects to our dependent variable."
   ]
  },
  {
   "cell_type": "code",
   "execution_count": null,
   "id": "2f2922a6-136e-47dc-a4fa-64070c390ac3",
   "metadata": {},
   "outputs": [],
   "source": []
  },
  {
   "cell_type": "markdown",
   "id": "a9ddd9be",
   "metadata": {},
   "source": [
    "#### 1.4 Histogram of output  and some inputs"
   ]
  },
  {
   "cell_type": "markdown",
   "id": "2220e7b1",
   "metadata": {},
   "source": [
    "###### -> OUTPUT AND INPUT"
   ]
  },
  {
   "cell_type": "markdown",
   "id": "5eb3a8df",
   "metadata": {},
   "source": [
    "In this section we would see histgram of all the numerical feature and a boxplots of each feature, with this we can see Normalization of each feature giving further information about the exitence of outliers which needs to be treated before feeding our data set to our model."
   ]
  },
  {
   "cell_type": "code",
   "execution_count": 80,
   "id": "dbb30ede-63d1-460b-935c-30c405cfce08",
   "metadata": {},
   "outputs": [],
   "source": [
    "numerical_col = housingdata_df.drop(['ocean_proximity'] , axis = 1)"
   ]
  },
  {
   "cell_type": "code",
   "execution_count": 81,
   "id": "3c1b4686-66fc-4a7e-9a11-95863151aea7",
   "metadata": {},
   "outputs": [
    {
     "data": {
      "image/png": "[encoded data removed]",
      "text/plain": [
       "<Figure size 1440x576 with 18 Axes>"
      ]
     },
     "metadata": {
      "needs_background": "light"
     },
     "output_type": "display_data"
    }
   ],
   "source": [
    "plot_histograms_and_box_plots(numerical_col)"
   ]
  },
  {
   "cell_type": "markdown",
   "id": "ec43df33",
   "metadata": {},
   "source": [
    "From the above histogram, we can see that total_rooms, total_bedrooms, population, households and median_income are rightly skwed and this is possibly as a result of outliers in these features.\n",
    "For the median_house_value we can see it it slighly rightly skwed and has some outliers aswell.\n",
    "This can also be seen in the box plot bellow each plots, hence futher explain our observations in the summary statistics above."
   ]
  },
  {
   "cell_type": "code",
   "execution_count": null,
   "id": "482d7267-c51f-4c5b-9a50-51419baa605d",
   "metadata": {},
   "outputs": [],
   "source": []
  },
  {
   "cell_type": "markdown",
   "id": "368242d3-3f81-4f69-9dc0-7dc9fc97c2af",
   "metadata": {},
   "source": [
    "## Concludsion -> EDA"
   ]
  },
  {
   "cell_type": "markdown",
   "id": "2aead8e3",
   "metadata": {},
   "source": [
    "From our EDA we observe the following : \n",
    "    - some feature has missing values - > total_bedrooms \n",
    "    - some feature has outliers - > ['total_rooms', 'total_bedrooms', 'population', 'households', 'median_income', 'median_house_value']\n",
    "    - some features were strongly correlated to our dependent variable.\n",
    "    - some features were strongly correlated with each other.\n",
    "    - one cartegorical variable -> ocean_proximity"
   ]
  },
  {
   "cell_type": "code",
   "execution_count": null,
   "id": "d387a31e-b3c2-4654-b423-51bffee12534",
   "metadata": {},
   "outputs": [],
   "source": []
  },
  {
   "cell_type": "markdown",
   "id": "590bd9ea",
   "metadata": {},
   "source": [
    "### B. DATA PREPROCESSING"
   ]
  },
  {
   "cell_type": "markdown",
   "id": "8f2ece19",
   "metadata": {},
   "source": [
    "In this section we will be dealing with preprocesing of our data set. This is a very important step in our machine learning project because anything we train or feed our model with can affect the outcome. We will be check for missing values, duplicates rows and outliers."
   ]
  },
  {
   "cell_type": "code",
   "execution_count": 82,
   "id": "5dc07c1e",
   "metadata": {},
   "outputs": [],
   "source": [
    "class Preprocessing:\n",
    "    \"\"\"\n",
    "     This class is use to preprocessing of the data, initial preprocess with methods for preprocessing.\n",
    "    \"\"\"\n",
    "    \n",
    "    def __init__(self , data):\n",
    "        self.data = data\n",
    "    \n",
    "    def checkforduplicatesrows(self):\n",
    "        return self.data.duplicated().sum()\n",
    "    \n",
    "    def checkformissingvalues(self):\n",
    "        return self.data.isnull().sum()\n",
    "    \n",
    "    def dealingwithduplicatedrows(self):\n",
    "        return self.data.drop_duplicates(inplace=True)\n",
    "        \n",
    "    def dealingwithincorrectcol(self):\n",
    "        datawithnomissingvalues = self.dealingwithduplicatedrows()\n",
    "        \n",
    "    def dealingwithoutliers(self):\n",
    "        cleandata = self.dealingwithincorrectcol()\n",
    "        for column in cleandata:\n",
    "            m1=cleandata[column].quantile(0.50)\n",
    "            p1=cleandata[column].quantile(0.95)\n",
    "            cleandata[column] = np.where(cleandata[column] > p1, m1, cleandata[column])"
   ]
  },
  {
   "cell_type": "markdown",
   "id": "5d3d8aee",
   "metadata": {},
   "source": [
    "#### Creating an object of our class Preprocessing"
   ]
  },
  {
   "cell_type": "code",
   "execution_count": 83,
   "id": "81bcf023",
   "metadata": {},
   "outputs": [],
   "source": [
    "preprocessingobject = Preprocessing(housingdata_df)"
   ]
  },
  {
   "cell_type": "markdown",
   "id": "f7f2b500",
   "metadata": {},
   "source": [
    "#### 2.1 Checking for duplicated rows"
   ]
  },
  {
   "cell_type": "code",
   "execution_count": 84,
   "id": "c2f3eb58",
   "metadata": {},
   "outputs": [
    {
     "data": {
      "text/plain": [
       "0"
      ]
     },
     "execution_count": 84,
     "metadata": {},
     "output_type": "execute_result"
    }
   ],
   "source": [
    "preprocessingobject.checkforduplicatesrows()"
   ]
  },
  {
   "cell_type": "raw",
   "id": "7e4c99c8",
   "metadata": {},
   "source": [
    "We can see that we have 0 duplicated observations.."
   ]
  },
  {
   "cell_type": "markdown",
   "id": "af1ce47f",
   "metadata": {},
   "source": [
    "#### 2.1.1 Dealing with duplicated rows"
   ]
  },
  {
   "cell_type": "code",
   "execution_count": 85,
   "id": "738d1a42",
   "metadata": {},
   "outputs": [],
   "source": [
    "#preprocessingobject.dealingwithduplicatedrows()"
   ]
  },
  {
   "cell_type": "markdown",
   "id": "977aa886",
   "metadata": {},
   "source": [
    "Since they are no duplicated observations, we do no need to remove duplicate observation(entries) for our dataset."
   ]
  },
  {
   "cell_type": "markdown",
   "id": "1e88f8fc-9f3e-485b-a5e7-20c41e40aa8c",
   "metadata": {},
   "source": [
    "#### 2.2 Checking for incorrect data in each columns and dealing with them"
   ]
  },
  {
   "cell_type": "code",
   "execution_count": 86,
   "id": "1496f484",
   "metadata": {},
   "outputs": [
    {
     "data": {
      "text/plain": [
       "Index(['longitude', 'latitude', 'housing_median_age', 'total_rooms',\n",
       "       'total_bedrooms', 'population', 'households', 'median_income',\n",
       "       'median_house_value', 'ocean_proximity'],\n",
       "      dtype='object')"
      ]
     },
     "execution_count": 86,
     "metadata": {},
     "output_type": "execute_result"
    }
   ],
   "source": [
    "housingdata_df.columns"
   ]
  },
  {
   "cell_type": "code",
   "execution_count": 87,
   "id": "2d5c89bb",
   "metadata": {},
   "outputs": [
    {
     "data": {
      "text/plain": [
       "array([40., 32.,  8., 23., 29., 13., 39., 33.,  7., 19., 28., 16., 24.,\n",
       "       35.,  9., 31., 22., 52.,  4., 30., 25., 26., 43., 21., 37., 41.,\n",
       "       11., 14., 36., 34., 49., 10., 20.,  6., 51., 38., 45., 18., 17.,\n",
       "       42., 27., 47.,  3., 15., 44.,  5., 46., 12.,  2., 48., 50.,  1.])"
      ]
     },
     "execution_count": 87,
     "metadata": {},
     "output_type": "execute_result"
    }
   ],
   "source": [
    "housingdata_df['housing_median_age'].unique()"
   ]
  },
  {
   "cell_type": "markdown",
   "id": "f5f917c2",
   "metadata": {},
   "source": [
    "After checking each features and see their different values, i noticed consistency in every feature base on their data type. hence we don't have to deal with any incorrect data for our data set. "
   ]
  },
  {
   "cell_type": "markdown",
   "id": "6bf3c37d",
   "metadata": {},
   "source": [
    "#### 2.3 Checking for missing values"
   ]
  },
  {
   "cell_type": "code",
   "execution_count": 88,
   "id": "6102c869",
   "metadata": {},
   "outputs": [
    {
     "data": {
      "text/plain": [
       "longitude               0\n",
       "latitude                0\n",
       "housing_median_age      0\n",
       "total_rooms             0\n",
       "total_bedrooms        188\n",
       "population              0\n",
       "households              0\n",
       "median_income           0\n",
       "median_house_value      0\n",
       "ocean_proximity         0\n",
       "dtype: int64"
      ]
     },
     "execution_count": 88,
     "metadata": {},
     "output_type": "execute_result"
    }
   ],
   "source": [
    "preprocessingobject.checkformissingvalues()"
   ]
  },
  {
   "cell_type": "markdown",
   "id": "8ebb026d",
   "metadata": {},
   "source": [
    "Like as seen in the EDA, i noticed that they where missing data in our data set, total_bedroom has 188 missing data and we need to fix this before we build our model."
   ]
  },
  {
   "cell_type": "markdown",
   "id": "5f1bd300",
   "metadata": {},
   "source": [
    "==> DATA LEAKAGE : To avoid data leakage in our data set, we need to split our data set into train and test data set before handling missig values and outliers. "
   ]
  },
  {
   "cell_type": "markdown",
   "id": "c41ecd42",
   "metadata": {},
   "source": [
    "#### 2.4 Checking for outliers"
   ]
  },
  {
   "cell_type": "code",
   "execution_count": 89,
   "id": "cfabaf44",
   "metadata": {},
   "outputs": [
    {
     "data": {
      "image/png": "[encoded data removed]",
      "text/plain": [
       "<Figure size 864x360 with 1 Axes>"
      ]
     },
     "metadata": {
      "needs_background": "light"
     },
     "output_type": "display_data"
    }
   ],
   "source": [
    "boxplot(numerical_col)"
   ]
  },
  {
   "cell_type": "code",
   "execution_count": 90,
   "id": "3ef8f239",
   "metadata": {},
   "outputs": [],
   "source": [
    "# Identify outliers for each feature\n",
    "outliers_dict = {}\n",
    "for column in numerical_col.columns:\n",
    "    outliers_dict[column] = find_outliers_iqr(numerical_col[column])"
   ]
  },
  {
   "cell_type": "code",
   "execution_count": 91,
   "id": "79a68f1e",
   "metadata": {},
   "outputs": [
    {
     "name": "stdout",
     "output_type": "stream",
     "text": [
      "Features with Outliers: ['total_rooms', 'total_bedrooms', 'population', 'households', 'median_income', 'median_house_value']\n"
     ]
    }
   ],
   "source": [
    "# Display features with outliers\n",
    "features_with_outliers = [feature for feature, has_outliers in outliers_dict.items() if has_outliers.any()]\n",
    "print(\"Features with Outliers:\", features_with_outliers)"
   ]
  },
  {
   "cell_type": "raw",
   "id": "bc8aa213",
   "metadata": {},
   "source": [
    "Just as seen in our EDA, we noticed that some features has outliers, above shows the features with outliers and we would handle this together with missing value in our next phase."
   ]
  },
  {
   "cell_type": "code",
   "execution_count": null,
   "id": "6c5ae024",
   "metadata": {},
   "outputs": [],
   "source": []
  },
  {
   "cell_type": "markdown",
   "id": "6f0787d9",
   "metadata": {},
   "source": [
    "#### 2.5 Encoding the feature - > ocean_proximity"
   ]
  },
  {
   "cell_type": "code",
   "execution_count": 92,
   "id": "c536c847-72b3-4771-b2b7-7a7429524347",
   "metadata": {},
   "outputs": [],
   "source": [
    "## because i don't want to change my original data set, i will create a copy of my data and use it for preprocessing \n",
    "preprocessed_data = housingdata_df.copy()"
   ]
  },
  {
   "cell_type": "code",
   "execution_count": 93,
   "id": "73d570ff",
   "metadata": {},
   "outputs": [],
   "source": [
    "encoded_data = one_hot_encode_column(preprocessed_data, 'ocean_proximity')"
   ]
  },
  {
   "cell_type": "code",
   "execution_count": 94,
   "id": "49e931a3",
   "metadata": {},
   "outputs": [
    {
     "data": {
      "text/html": [
       "<div>\n",
       "<style scoped>\n",
       "    .dataframe tbody tr th:only-of-type {\n",
       "        vertical-align: middle;\n",
       "    }\n",
       "\n",
       "    .dataframe tbody tr th {\n",
       "        vertical-align: top;\n",
       "    }\n",
       "\n",
       "    .dataframe thead th {\n",
       "        text-align: right;\n",
       "    }\n",
       "</style>\n",
       "<table border=\"1\" class=\"dataframe\">\n",
       "  <thead>\n",
       "    <tr style=\"text-align: right;\">\n",
       "      <th></th>\n",
       "      <th>longitude</th>\n",
       "      <th>latitude</th>\n",
       "      <th>housing_median_age</th>\n",
       "      <th>total_rooms</th>\n",
       "      <th>total_bedrooms</th>\n",
       "      <th>population</th>\n",
       "      <th>households</th>\n",
       "      <th>median_income</th>\n",
       "      <th>median_house_value</th>\n",
       "      <th>ocean_proximity_&lt;1H OCEAN</th>\n",
       "      <th>ocean_proximity_INLAND</th>\n",
       "      <th>ocean_proximity_ISLAND</th>\n",
       "      <th>ocean_proximity_NEAR BAY</th>\n",
       "      <th>ocean_proximity_NEAR OCEAN</th>\n",
       "    </tr>\n",
       "  </thead>\n",
       "  <tbody>\n",
       "    <tr>\n",
       "      <th>0</th>\n",
       "      <td>-121.25</td>\n",
       "      <td>37.95</td>\n",
       "      <td>40.0</td>\n",
       "      <td>1703.0</td>\n",
       "      <td>362.0</td>\n",
       "      <td>1208.0</td>\n",
       "      <td>373.0</td>\n",
       "      <td>2.0817</td>\n",
       "      <td>55300.0</td>\n",
       "      <td>0.0</td>\n",
       "      <td>1.0</td>\n",
       "      <td>0.0</td>\n",
       "      <td>0.0</td>\n",
       "      <td>0.0</td>\n",
       "    </tr>\n",
       "    <tr>\n",
       "      <th>1</th>\n",
       "      <td>-116.00</td>\n",
       "      <td>34.12</td>\n",
       "      <td>32.0</td>\n",
       "      <td>3163.0</td>\n",
       "      <td>712.0</td>\n",
       "      <td>1358.0</td>\n",
       "      <td>544.0</td>\n",
       "      <td>2.1250</td>\n",
       "      <td>57700.0</td>\n",
       "      <td>0.0</td>\n",
       "      <td>1.0</td>\n",
       "      <td>0.0</td>\n",
       "      <td>0.0</td>\n",
       "      <td>0.0</td>\n",
       "    </tr>\n",
       "    <tr>\n",
       "      <th>2</th>\n",
       "      <td>-116.48</td>\n",
       "      <td>33.61</td>\n",
       "      <td>8.0</td>\n",
       "      <td>1294.0</td>\n",
       "      <td>272.0</td>\n",
       "      <td>457.0</td>\n",
       "      <td>199.0</td>\n",
       "      <td>2.9167</td>\n",
       "      <td>115300.0</td>\n",
       "      <td>0.0</td>\n",
       "      <td>1.0</td>\n",
       "      <td>0.0</td>\n",
       "      <td>0.0</td>\n",
       "      <td>0.0</td>\n",
       "    </tr>\n",
       "    <tr>\n",
       "      <th>3</th>\n",
       "      <td>-122.60</td>\n",
       "      <td>38.90</td>\n",
       "      <td>23.0</td>\n",
       "      <td>292.0</td>\n",
       "      <td>56.0</td>\n",
       "      <td>92.0</td>\n",
       "      <td>41.0</td>\n",
       "      <td>2.9583</td>\n",
       "      <td>91700.0</td>\n",
       "      <td>0.0</td>\n",
       "      <td>1.0</td>\n",
       "      <td>0.0</td>\n",
       "      <td>0.0</td>\n",
       "      <td>0.0</td>\n",
       "    </tr>\n",
       "    <tr>\n",
       "      <th>4</th>\n",
       "      <td>-121.30</td>\n",
       "      <td>38.58</td>\n",
       "      <td>29.0</td>\n",
       "      <td>2748.0</td>\n",
       "      <td>563.0</td>\n",
       "      <td>1619.0</td>\n",
       "      <td>525.0</td>\n",
       "      <td>2.8966</td>\n",
       "      <td>92400.0</td>\n",
       "      <td>0.0</td>\n",
       "      <td>1.0</td>\n",
       "      <td>0.0</td>\n",
       "      <td>0.0</td>\n",
       "      <td>0.0</td>\n",
       "    </tr>\n",
       "  </tbody>\n",
       "</table>\n",
       "</div>"
      ],
      "text/plain": [
       "   longitude  latitude  housing_median_age  total_rooms  total_bedrooms  \\\n",
       "0    -121.25     37.95                40.0       1703.0           362.0   \n",
       "1    -116.00     34.12                32.0       3163.0           712.0   \n",
       "2    -116.48     33.61                 8.0       1294.0           272.0   \n",
       "3    -122.60     38.90                23.0        292.0            56.0   \n",
       "4    -121.30     38.58                29.0       2748.0           563.0   \n",
       "\n",
       "   population  households  median_income  median_house_value  \\\n",
       "0      1208.0       373.0         2.0817             55300.0   \n",
       "1      1358.0       544.0         2.1250             57700.0   \n",
       "2       457.0       199.0         2.9167            115300.0   \n",
       "3        92.0        41.0         2.9583             91700.0   \n",
       "4      1619.0       525.0         2.8966             92400.0   \n",
       "\n",
       "   ocean_proximity_<1H OCEAN  ocean_proximity_INLAND  ocean_proximity_ISLAND  \\\n",
       "0                        0.0                     1.0                     0.0   \n",
       "1                        0.0                     1.0                     0.0   \n",
       "2                        0.0                     1.0                     0.0   \n",
       "3                        0.0                     1.0                     0.0   \n",
       "4                        0.0                     1.0                     0.0   \n",
       "\n",
       "   ocean_proximity_NEAR BAY  ocean_proximity_NEAR OCEAN  \n",
       "0                       0.0                         0.0  \n",
       "1                       0.0                         0.0  \n",
       "2                       0.0                         0.0  \n",
       "3                       0.0                         0.0  \n",
       "4                       0.0                         0.0  "
      ]
     },
     "execution_count": 94,
     "metadata": {},
     "output_type": "execute_result"
    }
   ],
   "source": [
    "encoded_data.head()"
   ]
  },
  {
   "cell_type": "markdown",
   "id": "f306e8b2-720e-479d-ae7d-564e6fe6a7b0",
   "metadata": {},
   "source": [
    "#### 2.6 Feature engineering"
   ]
  },
  {
   "cell_type": "raw",
   "id": "a94b2ca3-709e-45f7-9b65-18f7b98f08bd",
   "metadata": {},
   "source": [
    "since the features i am about to create does not directly affects teh predicted output. there is no risk of data leakage creating them using the complete dataset. "
   ]
  },
  {
   "cell_type": "markdown",
   "id": "3909f816-d293-4b49-be61-40e13adf4fc8",
   "metadata": {},
   "source": [
    "##### a.Income per Capita"
   ]
  },
  {
   "cell_type": "code",
   "execution_count": 95,
   "id": "ed7e70b6-a01b-4323-87f8-a2ff8b9d608f",
   "metadata": {},
   "outputs": [],
   "source": [
    "encoded_data['income_per_capita'] = encoded_data['median_income'] / encoded_data['population']"
   ]
  },
  {
   "cell_type": "markdown",
   "id": "2d0cec65-220e-4663-85c1-24df81ca22c1",
   "metadata": {},
   "source": [
    "##### b.Rooms per Household"
   ]
  },
  {
   "cell_type": "code",
   "execution_count": 96,
   "id": "fe727200-8550-431d-a0ae-38927f2559be",
   "metadata": {},
   "outputs": [],
   "source": [
    "encoded_data['rooms_per_household'] = encoded_data['total_rooms'] / encoded_data['households']"
   ]
  },
  {
   "cell_type": "markdown",
   "id": "cf9352d1-b4d7-4b78-951e-77c1464a132d",
   "metadata": {},
   "source": [
    "##### b.Population per Household"
   ]
  },
  {
   "cell_type": "code",
   "execution_count": 97,
   "id": "8b0b90eb-5fe6-4baa-b6d6-524134ebf500",
   "metadata": {},
   "outputs": [],
   "source": [
    "encoded_data['population_per_household'] = encoded_data['population'] / encoded_data['households']"
   ]
  },
  {
   "cell_type": "code",
   "execution_count": 98,
   "id": "f644b9c9-7fde-4fc0-be41-058181e83c41",
   "metadata": {},
   "outputs": [
    {
     "data": {
      "text/html": [
       "<div>\n",
       "<style scoped>\n",
       "    .dataframe tbody tr th:only-of-type {\n",
       "        vertical-align: middle;\n",
       "    }\n",
       "\n",
       "    .dataframe tbody tr th {\n",
       "        vertical-align: top;\n",
       "    }\n",
       "\n",
       "    .dataframe thead th {\n",
       "        text-align: right;\n",
       "    }\n",
       "</style>\n",
       "<table border=\"1\" class=\"dataframe\">\n",
       "  <thead>\n",
       "    <tr style=\"text-align: right;\">\n",
       "      <th></th>\n",
       "      <th>longitude</th>\n",
       "      <th>latitude</th>\n",
       "      <th>housing_median_age</th>\n",
       "      <th>total_rooms</th>\n",
       "      <th>total_bedrooms</th>\n",
       "      <th>population</th>\n",
       "      <th>households</th>\n",
       "      <th>median_income</th>\n",
       "      <th>median_house_value</th>\n",
       "      <th>ocean_proximity_&lt;1H OCEAN</th>\n",
       "      <th>ocean_proximity_INLAND</th>\n",
       "      <th>ocean_proximity_ISLAND</th>\n",
       "      <th>ocean_proximity_NEAR BAY</th>\n",
       "      <th>ocean_proximity_NEAR OCEAN</th>\n",
       "      <th>income_per_capita</th>\n",
       "      <th>rooms_per_household</th>\n",
       "      <th>population_per_household</th>\n",
       "    </tr>\n",
       "  </thead>\n",
       "  <tbody>\n",
       "    <tr>\n",
       "      <th>0</th>\n",
       "      <td>-121.25</td>\n",
       "      <td>37.95</td>\n",
       "      <td>40.0</td>\n",
       "      <td>1703.0</td>\n",
       "      <td>362.0</td>\n",
       "      <td>1208.0</td>\n",
       "      <td>373.0</td>\n",
       "      <td>2.0817</td>\n",
       "      <td>55300.0</td>\n",
       "      <td>0.0</td>\n",
       "      <td>1.0</td>\n",
       "      <td>0.0</td>\n",
       "      <td>0.0</td>\n",
       "      <td>0.0</td>\n",
       "      <td>0.001723</td>\n",
       "      <td>4.565684</td>\n",
       "      <td>3.238606</td>\n",
       "    </tr>\n",
       "    <tr>\n",
       "      <th>1</th>\n",
       "      <td>-116.00</td>\n",
       "      <td>34.12</td>\n",
       "      <td>32.0</td>\n",
       "      <td>3163.0</td>\n",
       "      <td>712.0</td>\n",
       "      <td>1358.0</td>\n",
       "      <td>544.0</td>\n",
       "      <td>2.1250</td>\n",
       "      <td>57700.0</td>\n",
       "      <td>0.0</td>\n",
       "      <td>1.0</td>\n",
       "      <td>0.0</td>\n",
       "      <td>0.0</td>\n",
       "      <td>0.0</td>\n",
       "      <td>0.001565</td>\n",
       "      <td>5.814338</td>\n",
       "      <td>2.496324</td>\n",
       "    </tr>\n",
       "    <tr>\n",
       "      <th>2</th>\n",
       "      <td>-116.48</td>\n",
       "      <td>33.61</td>\n",
       "      <td>8.0</td>\n",
       "      <td>1294.0</td>\n",
       "      <td>272.0</td>\n",
       "      <td>457.0</td>\n",
       "      <td>199.0</td>\n",
       "      <td>2.9167</td>\n",
       "      <td>115300.0</td>\n",
       "      <td>0.0</td>\n",
       "      <td>1.0</td>\n",
       "      <td>0.0</td>\n",
       "      <td>0.0</td>\n",
       "      <td>0.0</td>\n",
       "      <td>0.006382</td>\n",
       "      <td>6.502513</td>\n",
       "      <td>2.296482</td>\n",
       "    </tr>\n",
       "    <tr>\n",
       "      <th>3</th>\n",
       "      <td>-122.60</td>\n",
       "      <td>38.90</td>\n",
       "      <td>23.0</td>\n",
       "      <td>292.0</td>\n",
       "      <td>56.0</td>\n",
       "      <td>92.0</td>\n",
       "      <td>41.0</td>\n",
       "      <td>2.9583</td>\n",
       "      <td>91700.0</td>\n",
       "      <td>0.0</td>\n",
       "      <td>1.0</td>\n",
       "      <td>0.0</td>\n",
       "      <td>0.0</td>\n",
       "      <td>0.0</td>\n",
       "      <td>0.032155</td>\n",
       "      <td>7.121951</td>\n",
       "      <td>2.243902</td>\n",
       "    </tr>\n",
       "    <tr>\n",
       "      <th>4</th>\n",
       "      <td>-121.30</td>\n",
       "      <td>38.58</td>\n",
       "      <td>29.0</td>\n",
       "      <td>2748.0</td>\n",
       "      <td>563.0</td>\n",
       "      <td>1619.0</td>\n",
       "      <td>525.0</td>\n",
       "      <td>2.8966</td>\n",
       "      <td>92400.0</td>\n",
       "      <td>0.0</td>\n",
       "      <td>1.0</td>\n",
       "      <td>0.0</td>\n",
       "      <td>0.0</td>\n",
       "      <td>0.0</td>\n",
       "      <td>0.001789</td>\n",
       "      <td>5.234286</td>\n",
       "      <td>3.083810</td>\n",
       "    </tr>\n",
       "    <tr>\n",
       "      <th>...</th>\n",
       "      <td>...</td>\n",
       "      <td>...</td>\n",
       "      <td>...</td>\n",
       "      <td>...</td>\n",
       "      <td>...</td>\n",
       "      <td>...</td>\n",
       "      <td>...</td>\n",
       "      <td>...</td>\n",
       "      <td>...</td>\n",
       "      <td>...</td>\n",
       "      <td>...</td>\n",
       "      <td>...</td>\n",
       "      <td>...</td>\n",
       "      <td>...</td>\n",
       "      <td>...</td>\n",
       "      <td>...</td>\n",
       "      <td>...</td>\n",
       "    </tr>\n",
       "    <tr>\n",
       "      <th>18571</th>\n",
       "      <td>-119.57</td>\n",
       "      <td>36.10</td>\n",
       "      <td>36.0</td>\n",
       "      <td>1729.0</td>\n",
       "      <td>317.0</td>\n",
       "      <td>737.0</td>\n",
       "      <td>278.0</td>\n",
       "      <td>3.5313</td>\n",
       "      <td>68800.0</td>\n",
       "      <td>0.0</td>\n",
       "      <td>1.0</td>\n",
       "      <td>0.0</td>\n",
       "      <td>0.0</td>\n",
       "      <td>0.0</td>\n",
       "      <td>0.004791</td>\n",
       "      <td>6.219424</td>\n",
       "      <td>2.651079</td>\n",
       "    </tr>\n",
       "    <tr>\n",
       "      <th>18572</th>\n",
       "      <td>-117.27</td>\n",
       "      <td>34.10</td>\n",
       "      <td>9.0</td>\n",
       "      <td>3904.0</td>\n",
       "      <td>1042.0</td>\n",
       "      <td>3688.0</td>\n",
       "      <td>896.0</td>\n",
       "      <td>1.8022</td>\n",
       "      <td>78000.0</td>\n",
       "      <td>0.0</td>\n",
       "      <td>1.0</td>\n",
       "      <td>0.0</td>\n",
       "      <td>0.0</td>\n",
       "      <td>0.0</td>\n",
       "      <td>0.000489</td>\n",
       "      <td>4.357143</td>\n",
       "      <td>4.116071</td>\n",
       "    </tr>\n",
       "    <tr>\n",
       "      <th>18573</th>\n",
       "      <td>-118.27</td>\n",
       "      <td>34.11</td>\n",
       "      <td>39.0</td>\n",
       "      <td>3825.0</td>\n",
       "      <td>916.0</td>\n",
       "      <td>1378.0</td>\n",
       "      <td>746.0</td>\n",
       "      <td>4.4094</td>\n",
       "      <td>352600.0</td>\n",
       "      <td>1.0</td>\n",
       "      <td>0.0</td>\n",
       "      <td>0.0</td>\n",
       "      <td>0.0</td>\n",
       "      <td>0.0</td>\n",
       "      <td>0.003200</td>\n",
       "      <td>5.127346</td>\n",
       "      <td>1.847185</td>\n",
       "    </tr>\n",
       "    <tr>\n",
       "      <th>18574</th>\n",
       "      <td>-117.97</td>\n",
       "      <td>34.07</td>\n",
       "      <td>22.0</td>\n",
       "      <td>1438.0</td>\n",
       "      <td>364.0</td>\n",
       "      <td>1325.0</td>\n",
       "      <td>335.0</td>\n",
       "      <td>2.7802</td>\n",
       "      <td>162500.0</td>\n",
       "      <td>1.0</td>\n",
       "      <td>0.0</td>\n",
       "      <td>0.0</td>\n",
       "      <td>0.0</td>\n",
       "      <td>0.0</td>\n",
       "      <td>0.002098</td>\n",
       "      <td>4.292537</td>\n",
       "      <td>3.955224</td>\n",
       "    </tr>\n",
       "    <tr>\n",
       "      <th>18575</th>\n",
       "      <td>-120.46</td>\n",
       "      <td>34.64</td>\n",
       "      <td>26.0</td>\n",
       "      <td>2364.0</td>\n",
       "      <td>604.0</td>\n",
       "      <td>1520.0</td>\n",
       "      <td>529.0</td>\n",
       "      <td>1.9444</td>\n",
       "      <td>129400.0</td>\n",
       "      <td>0.0</td>\n",
       "      <td>0.0</td>\n",
       "      <td>0.0</td>\n",
       "      <td>0.0</td>\n",
       "      <td>1.0</td>\n",
       "      <td>0.001279</td>\n",
       "      <td>4.468809</td>\n",
       "      <td>2.873346</td>\n",
       "    </tr>\n",
       "  </tbody>\n",
       "</table>\n",
       "<p>18576 rows × 17 columns</p>\n",
       "</div>"
      ],
      "text/plain": [
       "       longitude  latitude  housing_median_age  total_rooms  total_bedrooms  \\\n",
       "0        -121.25     37.95                40.0       1703.0           362.0   \n",
       "1        -116.00     34.12                32.0       3163.0           712.0   \n",
       "2        -116.48     33.61                 8.0       1294.0           272.0   \n",
       "3        -122.60     38.90                23.0        292.0            56.0   \n",
       "4        -121.30     38.58                29.0       2748.0           563.0   \n",
       "...          ...       ...                 ...          ...             ...   \n",
       "18571    -119.57     36.10                36.0       1729.0           317.0   \n",
       "18572    -117.27     34.10                 9.0       3904.0          1042.0   \n",
       "18573    -118.27     34.11                39.0       3825.0           916.0   \n",
       "18574    -117.97     34.07                22.0       1438.0           364.0   \n",
       "18575    -120.46     34.64                26.0       2364.0           604.0   \n",
       "\n",
       "       population  households  median_income  median_house_value  \\\n",
       "0          1208.0       373.0         2.0817             55300.0   \n",
       "1          1358.0       544.0         2.1250             57700.0   \n",
       "2           457.0       199.0         2.9167            115300.0   \n",
       "3            92.0        41.0         2.9583             91700.0   \n",
       "4          1619.0       525.0         2.8966             92400.0   \n",
       "...           ...         ...            ...                 ...   \n",
       "18571       737.0       278.0         3.5313             68800.0   \n",
       "18572      3688.0       896.0         1.8022             78000.0   \n",
       "18573      1378.0       746.0         4.4094            352600.0   \n",
       "18574      1325.0       335.0         2.7802            162500.0   \n",
       "18575      1520.0       529.0         1.9444            129400.0   \n",
       "\n",
       "       ocean_proximity_<1H OCEAN  ocean_proximity_INLAND  \\\n",
       "0                            0.0                     1.0   \n",
       "1                            0.0                     1.0   \n",
       "2                            0.0                     1.0   \n",
       "3                            0.0                     1.0   \n",
       "4                            0.0                     1.0   \n",
       "...                          ...                     ...   \n",
       "18571                        0.0                     1.0   \n",
       "18572                        0.0                     1.0   \n",
       "18573                        1.0                     0.0   \n",
       "18574                        1.0                     0.0   \n",
       "18575                        0.0                     0.0   \n",
       "\n",
       "       ocean_proximity_ISLAND  ocean_proximity_NEAR BAY  \\\n",
       "0                         0.0                       0.0   \n",
       "1                         0.0                       0.0   \n",
       "2                         0.0                       0.0   \n",
       "3                         0.0                       0.0   \n",
       "4                         0.0                       0.0   \n",
       "...                       ...                       ...   \n",
       "18571                     0.0                       0.0   \n",
       "18572                     0.0                       0.0   \n",
       "18573                     0.0                       0.0   \n",
       "18574                     0.0                       0.0   \n",
       "18575                     0.0                       0.0   \n",
       "\n",
       "       ocean_proximity_NEAR OCEAN  income_per_capita  rooms_per_household  \\\n",
       "0                             0.0           0.001723             4.565684   \n",
       "1                             0.0           0.001565             5.814338   \n",
       "2                             0.0           0.006382             6.502513   \n",
       "3                             0.0           0.032155             7.121951   \n",
       "4                             0.0           0.001789             5.234286   \n",
       "...                           ...                ...                  ...   \n",
       "18571                         0.0           0.004791             6.219424   \n",
       "18572                         0.0           0.000489             4.357143   \n",
       "18573                         0.0           0.003200             5.127346   \n",
       "18574                         0.0           0.002098             4.292537   \n",
       "18575                         1.0           0.001279             4.468809   \n",
       "\n",
       "       population_per_household  \n",
       "0                      3.238606  \n",
       "1                      2.496324  \n",
       "2                      2.296482  \n",
       "3                      2.243902  \n",
       "4                      3.083810  \n",
       "...                         ...  \n",
       "18571                  2.651079  \n",
       "18572                  4.116071  \n",
       "18573                  1.847185  \n",
       "18574                  3.955224  \n",
       "18575                  2.873346  \n",
       "\n",
       "[18576 rows x 17 columns]"
      ]
     },
     "execution_count": 98,
     "metadata": {},
     "output_type": "execute_result"
    }
   ],
   "source": [
    "encoded_data"
   ]
  },
  {
   "cell_type": "code",
   "execution_count": null,
   "id": "f59c6420-986f-401a-8e4b-58e8577ab1ca",
   "metadata": {},
   "outputs": [],
   "source": []
  },
  {
   "cell_type": "markdown",
   "id": "5dd68020-1af1-407a-b25d-447f2914fbcb",
   "metadata": {},
   "source": [
    "#### 2.7 Feature selection base on correlation of independent variable "
   ]
  },
  {
   "cell_type": "markdown",
   "id": "8b80a95a",
   "metadata": {},
   "source": [
    "Just as seen above in our EDA, we can see the the feature total_bedrooms is strongly correlated with many independent features, and it has a comparatively weak correlation with the dependent variable and also in the context of real estate bedroom is a subset of room which is already a feature in our data set. Therefore i will drop this feature."
   ]
  },
  {
   "cell_type": "code",
   "execution_count": 99,
   "id": "b217cab9-93b2-477a-8306-fd9f5cb5aad2",
   "metadata": {},
   "outputs": [],
   "source": [
    "encoded_data = encoded_data.drop(['total_bedrooms'] , axis = 1)"
   ]
  },
  {
   "cell_type": "code",
   "execution_count": 100,
   "id": "b563395b-cb0a-4925-93cf-72f53de69b2e",
   "metadata": {},
   "outputs": [
    {
     "data": {
      "text/html": [
       "<div>\n",
       "<style scoped>\n",
       "    .dataframe tbody tr th:only-of-type {\n",
       "        vertical-align: middle;\n",
       "    }\n",
       "\n",
       "    .dataframe tbody tr th {\n",
       "        vertical-align: top;\n",
       "    }\n",
       "\n",
       "    .dataframe thead th {\n",
       "        text-align: right;\n",
       "    }\n",
       "</style>\n",
       "<table border=\"1\" class=\"dataframe\">\n",
       "  <thead>\n",
       "    <tr style=\"text-align: right;\">\n",
       "      <th></th>\n",
       "      <th>longitude</th>\n",
       "      <th>latitude</th>\n",
       "      <th>housing_median_age</th>\n",
       "      <th>total_rooms</th>\n",
       "      <th>population</th>\n",
       "      <th>households</th>\n",
       "      <th>median_income</th>\n",
       "      <th>median_house_value</th>\n",
       "      <th>ocean_proximity_&lt;1H OCEAN</th>\n",
       "      <th>ocean_proximity_INLAND</th>\n",
       "      <th>ocean_proximity_ISLAND</th>\n",
       "      <th>ocean_proximity_NEAR BAY</th>\n",
       "      <th>ocean_proximity_NEAR OCEAN</th>\n",
       "      <th>income_per_capita</th>\n",
       "      <th>rooms_per_household</th>\n",
       "      <th>population_per_household</th>\n",
       "    </tr>\n",
       "  </thead>\n",
       "  <tbody>\n",
       "    <tr>\n",
       "      <th>0</th>\n",
       "      <td>-121.25</td>\n",
       "      <td>37.95</td>\n",
       "      <td>40.0</td>\n",
       "      <td>1703.0</td>\n",
       "      <td>1208.0</td>\n",
       "      <td>373.0</td>\n",
       "      <td>2.0817</td>\n",
       "      <td>55300.0</td>\n",
       "      <td>0.0</td>\n",
       "      <td>1.0</td>\n",
       "      <td>0.0</td>\n",
       "      <td>0.0</td>\n",
       "      <td>0.0</td>\n",
       "      <td>0.001723</td>\n",
       "      <td>4.565684</td>\n",
       "      <td>3.238606</td>\n",
       "    </tr>\n",
       "    <tr>\n",
       "      <th>1</th>\n",
       "      <td>-116.00</td>\n",
       "      <td>34.12</td>\n",
       "      <td>32.0</td>\n",
       "      <td>3163.0</td>\n",
       "      <td>1358.0</td>\n",
       "      <td>544.0</td>\n",
       "      <td>2.1250</td>\n",
       "      <td>57700.0</td>\n",
       "      <td>0.0</td>\n",
       "      <td>1.0</td>\n",
       "      <td>0.0</td>\n",
       "      <td>0.0</td>\n",
       "      <td>0.0</td>\n",
       "      <td>0.001565</td>\n",
       "      <td>5.814338</td>\n",
       "      <td>2.496324</td>\n",
       "    </tr>\n",
       "    <tr>\n",
       "      <th>2</th>\n",
       "      <td>-116.48</td>\n",
       "      <td>33.61</td>\n",
       "      <td>8.0</td>\n",
       "      <td>1294.0</td>\n",
       "      <td>457.0</td>\n",
       "      <td>199.0</td>\n",
       "      <td>2.9167</td>\n",
       "      <td>115300.0</td>\n",
       "      <td>0.0</td>\n",
       "      <td>1.0</td>\n",
       "      <td>0.0</td>\n",
       "      <td>0.0</td>\n",
       "      <td>0.0</td>\n",
       "      <td>0.006382</td>\n",
       "      <td>6.502513</td>\n",
       "      <td>2.296482</td>\n",
       "    </tr>\n",
       "    <tr>\n",
       "      <th>3</th>\n",
       "      <td>-122.60</td>\n",
       "      <td>38.90</td>\n",
       "      <td>23.0</td>\n",
       "      <td>292.0</td>\n",
       "      <td>92.0</td>\n",
       "      <td>41.0</td>\n",
       "      <td>2.9583</td>\n",
       "      <td>91700.0</td>\n",
       "      <td>0.0</td>\n",
       "      <td>1.0</td>\n",
       "      <td>0.0</td>\n",
       "      <td>0.0</td>\n",
       "      <td>0.0</td>\n",
       "      <td>0.032155</td>\n",
       "      <td>7.121951</td>\n",
       "      <td>2.243902</td>\n",
       "    </tr>\n",
       "    <tr>\n",
       "      <th>4</th>\n",
       "      <td>-121.30</td>\n",
       "      <td>38.58</td>\n",
       "      <td>29.0</td>\n",
       "      <td>2748.0</td>\n",
       "      <td>1619.0</td>\n",
       "      <td>525.0</td>\n",
       "      <td>2.8966</td>\n",
       "      <td>92400.0</td>\n",
       "      <td>0.0</td>\n",
       "      <td>1.0</td>\n",
       "      <td>0.0</td>\n",
       "      <td>0.0</td>\n",
       "      <td>0.0</td>\n",
       "      <td>0.001789</td>\n",
       "      <td>5.234286</td>\n",
       "      <td>3.083810</td>\n",
       "    </tr>\n",
       "  </tbody>\n",
       "</table>\n",
       "</div>"
      ],
      "text/plain": [
       "   longitude  latitude  housing_median_age  total_rooms  population  \\\n",
       "0    -121.25     37.95                40.0       1703.0      1208.0   \n",
       "1    -116.00     34.12                32.0       3163.0      1358.0   \n",
       "2    -116.48     33.61                 8.0       1294.0       457.0   \n",
       "3    -122.60     38.90                23.0        292.0        92.0   \n",
       "4    -121.30     38.58                29.0       2748.0      1619.0   \n",
       "\n",
       "   households  median_income  median_house_value  ocean_proximity_<1H OCEAN  \\\n",
       "0       373.0         2.0817             55300.0                        0.0   \n",
       "1       544.0         2.1250             57700.0                        0.0   \n",
       "2       199.0         2.9167            115300.0                        0.0   \n",
       "3        41.0         2.9583             91700.0                        0.0   \n",
       "4       525.0         2.8966             92400.0                        0.0   \n",
       "\n",
       "   ocean_proximity_INLAND  ocean_proximity_ISLAND  ocean_proximity_NEAR BAY  \\\n",
       "0                     1.0                     0.0                       0.0   \n",
       "1                     1.0                     0.0                       0.0   \n",
       "2                     1.0                     0.0                       0.0   \n",
       "3                     1.0                     0.0                       0.0   \n",
       "4                     1.0                     0.0                       0.0   \n",
       "\n",
       "   ocean_proximity_NEAR OCEAN  income_per_capita  rooms_per_household  \\\n",
       "0                         0.0           0.001723             4.565684   \n",
       "1                         0.0           0.001565             5.814338   \n",
       "2                         0.0           0.006382             6.502513   \n",
       "3                         0.0           0.032155             7.121951   \n",
       "4                         0.0           0.001789             5.234286   \n",
       "\n",
       "   population_per_household  \n",
       "0                  3.238606  \n",
       "1                  2.496324  \n",
       "2                  2.296482  \n",
       "3                  2.243902  \n",
       "4                  3.083810  "
      ]
     },
     "execution_count": 100,
     "metadata": {},
     "output_type": "execute_result"
    }
   ],
   "source": [
    "encoded_data.head(5)"
   ]
  },
  {
   "cell_type": "code",
   "execution_count": null,
   "id": "1fad0755-9ecd-484b-b90e-c1a8a5fbfc9d",
   "metadata": {},
   "outputs": [],
   "source": []
  },
  {
   "cell_type": "markdown",
   "id": "5b7f2f7c-5cad-4d5a-94ab-474ba30541f1",
   "metadata": {},
   "source": [
    "## Concludsion - > Preprocessing :\n"
   ]
  },
  {
   "cell_type": "markdown",
   "id": "1d909c54",
   "metadata": {},
   "source": [
    "During the preprocessing phase the following was done : \n",
    "    - No duplicates was seen on our data set.\n",
    "    - I remove a feature base on correlation. \n",
    "    - not much was done in outliers and missing values because we don't want data leakage and contamination, this would be done in cross validation part in building our model "
   ]
  },
  {
   "cell_type": "markdown",
   "id": "ee40b6e4",
   "metadata": {},
   "source": [
    "# C. OULTLIER CLEANING , NORMALIZATION OF DATA SET, FEATURE SELECTION AND GRID SEARCH"
   ]
  },
  {
   "cell_type": "markdown",
   "id": "a980d521",
   "metadata": {},
   "source": [
    "#### N:B - kfold takes a long time to run because of large dataset\n",
    "In this part i did the following : \n",
    "- K-fold cross validation , k=5.\n",
    "- data preprocessing , outlier treatment(caping) , normalization using standardscaler() and feature selections using (RFECV).\n",
    "- I use Gridsearchcv to find the best parameter for my model. \n",
    "- Evaluate my model using ((MSE) , (MAE) , R-squared (R2) , Explained Variance Score and Mean Squared Logarithmic Error (MSLE))\n",
    "\n"
   ]
  },
  {
   "cell_type": "code",
   "execution_count": 103,
   "id": "12d17ac6",
   "metadata": {},
   "outputs": [],
   "source": [
    "# Step 2: Splitting the data into features and target\n",
    "X = encoded_data.drop(\"median_house_value\", axis=1)\n",
    "y = encoded_data[\"median_house_value\"]\n",
    "\n",
    "# Step 4: Setting up the pipeline with RandomForestRegressor\n",
    "rf_reg = RandomForestRegressor(random_state=42)\n",
    "\n",
    "# Step 5: Creating the pipeline with RFECV\n",
    "pipeline = make_pipeline(\n",
    "    ColumnTransformer(\n",
    "        transformers=[\n",
    "            ('num', StandardScaler(), X.columns),\n",
    "        ],\n",
    "        remainder='passthrough'\n",
    "    ),\n",
    "    RFECV(estimator=rf_reg, step=10, cv=5 , min_features_to_select=8),  # RFECV for feature selection\n",
    "    rf_reg\n",
    ")"
   ]
  },
  {
   "cell_type": "code",
   "execution_count": 104,
   "id": "03db8774",
   "metadata": {},
   "outputs": [],
   "source": [
    "# Step 6: Setting up the parameter grid for GridSearchCV\n",
    "param_grid = {\n",
    "    'randomforestregressor__n_estimators': [50, 100, 200],\n",
    "    'randomforestregressor__max_depth': [None, 10, 20],\n",
    "    'randomforestregressor__min_samples_split': [2, 5, 10],\n",
    "    'randomforestregressor__min_samples_leaf': [1, 2, 4]\n",
    "}\n",
    "\n",
    "# Step 7: Setting up GridSearchCV with parallel processing\n",
    "grid_search = GridSearchCV(\n",
    "    estimator=pipeline,\n",
    "    param_grid=param_grid,\n",
    "    scoring='neg_mean_squared_error',\n",
    "    cv=5,\n",
    "    n_jobs=-1  # Use all available CPU cores\n",
    ")"
   ]
  },
  {
   "cell_type": "code",
   "execution_count": 105,
   "id": "76165f69",
   "metadata": {
    "scrolled": false
   },
   "outputs": [
    {
     "name": "stdout",
     "output_type": "stream",
     "text": [
      "Best Estimator: Pipeline(steps=[('columntransformer',\n",
      "                 ColumnTransformer(remainder='passthrough',\n",
      "                                   transformers=[('num', StandardScaler(),\n",
      "                                                  Index(['longitude', 'latitude', 'housing_median_age', 'total_rooms',\n",
      "       'population', 'households', 'median_income',\n",
      "       'ocean_proximity_<1H OCEAN', 'ocean_proximity_INLAND',\n",
      "       'ocean_proximity_ISLAND', 'ocean_proximity_NEAR BAY',\n",
      "       'ocean_proximity_NEAR OCEAN', 'income_per_capita',\n",
      "       'rooms_per_household', 'population_per_household'],\n",
      "      dtype='object'))])),\n",
      "                ('rfecv',\n",
      "                 RFECV(cv=5, estimator=RandomForestRegressor(random_state=42),\n",
      "                       min_features_to_select=8, step=10)),\n",
      "                ('randomforestregressor',\n",
      "                 RandomForestRegressor(min_samples_leaf=2, n_estimators=200,\n",
      "                                       random_state=42))])\n",
      "Mean Squared Error (MSE): 2425318047.2165265\n",
      "Mean Absolute Error (MAE): 32241.898044620564\n",
      "R-squared (R2): 0.8141666144680486\n",
      "Explained Variance Score: 0.8141804378663265\n",
      "Mean Squared Logarithmic Error (MSLE): 0.05279198622118266\n",
      "Best Estimator: Pipeline(steps=[('columntransformer',\n",
      "                 ColumnTransformer(remainder='passthrough',\n",
      "                                   transformers=[('num', StandardScaler(),\n",
      "                                                  Index(['longitude', 'latitude', 'housing_median_age', 'total_rooms',\n",
      "       'population', 'households', 'median_income',\n",
      "       'ocean_proximity_<1H OCEAN', 'ocean_proximity_INLAND',\n",
      "       'ocean_proximity_ISLAND', 'ocean_proximity_NEAR BAY',\n",
      "       'ocean_proximity_NEAR OCEAN', 'income_per_capita',\n",
      "       'rooms_per_household', 'population_per_household'],\n",
      "      dtype='object'))])),\n",
      "                ('rfecv',\n",
      "                 RFECV(cv=5, estimator=RandomForestRegressor(random_state=42),\n",
      "                       min_features_to_select=8, step=10)),\n",
      "                ('randomforestregressor',\n",
      "                 RandomForestRegressor(min_samples_leaf=2, n_estimators=200,\n",
      "                                       random_state=42))])\n",
      "Mean Squared Error (MSE): 2373604825.361471\n",
      "Mean Absolute Error (MAE): 31342.41782813194\n",
      "R-squared (R2): 0.8204277085669917\n",
      "Explained Variance Score: 0.8204660424850109\n",
      "Mean Squared Logarithmic Error (MSLE): 0.05687149087496289\n",
      "Best Estimator: Pipeline(steps=[('columntransformer',\n",
      "                 ColumnTransformer(remainder='passthrough',\n",
      "                                   transformers=[('num', StandardScaler(),\n",
      "                                                  Index(['longitude', 'latitude', 'housing_median_age', 'total_rooms',\n",
      "       'population', 'households', 'median_income',\n",
      "       'ocean_proximity_<1H OCEAN', 'ocean_proximity_INLAND',\n",
      "       'ocean_proximity_ISLAND', 'ocean_proximity_NEAR BAY',\n",
      "       'ocean_proximity_NEAR OCEAN', 'income_per_capita',\n",
      "       'rooms_per_household', 'population_per_household'],\n",
      "      dtype='object'))])),\n",
      "                ('rfecv',\n",
      "                 RFECV(cv=5, estimator=RandomForestRegressor(random_state=42),\n",
      "                       min_features_to_select=8, step=10)),\n",
      "                ('randomforestregressor',\n",
      "                 RandomForestRegressor(min_samples_leaf=2, n_estimators=200,\n",
      "                                       random_state=42))])\n",
      "Mean Squared Error (MSE): 2319413367.1590714\n",
      "Mean Absolute Error (MAE): 31623.048512170422\n",
      "R-squared (R2): 0.813150355228299\n",
      "Explained Variance Score: 0.8131772959915682\n",
      "Mean Squared Logarithmic Error (MSLE): 0.058213132346646684\n",
      "Best Estimator: Pipeline(steps=[('columntransformer',\n",
      "                 ColumnTransformer(remainder='passthrough',\n",
      "                                   transformers=[('num', StandardScaler(),\n",
      "                                                  Index(['longitude', 'latitude', 'housing_median_age', 'total_rooms',\n",
      "       'population', 'households', 'median_income',\n",
      "       'ocean_proximity_<1H OCEAN', 'ocean_proximity_INLAND',\n",
      "       'ocean_proximity_ISLAND', 'ocean_proximity_NEAR BAY',\n",
      "       'ocean_proximity_NEAR OCEAN', 'income_per_capita',\n",
      "       'rooms_per_household', 'population_per_household'],\n",
      "      dtype='object'))])),\n",
      "                ('rfecv',\n",
      "                 RFECV(cv=5, estimator=RandomForestRegressor(random_state=42),\n",
      "                       min_features_to_select=8, step=10)),\n",
      "                ('randomforestregressor',\n",
      "                 RandomForestRegressor(min_samples_leaf=2, n_estimators=200,\n",
      "                                       random_state=42))])\n",
      "Mean Squared Error (MSE): 2268070298.288976\n",
      "Mean Absolute Error (MAE): 31772.63052591197\n",
      "R-squared (R2): 0.8130968222556083\n",
      "Explained Variance Score: 0.8133875147130203\n",
      "Mean Squared Logarithmic Error (MSLE): 0.05644175805270243\n",
      "Best Estimator: Pipeline(steps=[('columntransformer',\n",
      "                 ColumnTransformer(remainder='passthrough',\n",
      "                                   transformers=[('num', StandardScaler(),\n",
      "                                                  Index(['longitude', 'latitude', 'housing_median_age', 'total_rooms',\n",
      "       'population', 'households', 'median_income',\n",
      "       'ocean_proximity_<1H OCEAN', 'ocean_proximity_INLAND',\n",
      "       'ocean_proximity_ISLAND', 'ocean_proximity_NEAR BAY',\n",
      "       'ocean_proximity_NEAR OCEAN', 'income_per_capita',\n",
      "       'rooms_per_household', 'population_per_household'],\n",
      "      dtype='object'))])),\n",
      "                ('rfecv',\n",
      "                 RFECV(cv=5, estimator=RandomForestRegressor(random_state=42),\n",
      "                       min_features_to_select=8, step=10)),\n",
      "                ('randomforestregressor',\n",
      "                 RandomForestRegressor(min_samples_leaf=2, n_estimators=200,\n",
      "                                       random_state=42))])\n",
      "Mean Squared Error (MSE): 2352627855.6666093\n",
      "Mean Absolute Error (MAE): 31916.65121010878\n",
      "R-squared (R2): 0.819718269453444\n",
      "Explained Variance Score: 0.8198768691713311\n",
      "Mean Squared Logarithmic Error (MSLE): 0.05314622582994764\n"
     ]
    }
   ],
   "source": [
    "# Step 8: Fitting the model within a K-fold cross-validation loop\n",
    "kf = KFold(n_splits=5, shuffle=True, random_state=42)\n",
    "for train_index, test_index in kf.split(X):\n",
    "    X_train, X_test = X.iloc[train_index], X.iloc[test_index]\n",
    "    y_train, y_test = y.iloc[train_index], y.iloc[test_index]\n",
    "\n",
    "    # Step 9: Capping outliers using IQR for X_train\n",
    "    Q1_X_train = X_train.quantile(0.25)\n",
    "    Q3_X_train = X_train.quantile(0.75)\n",
    "    IQR_X_train = Q3_X_train - Q1_X_train\n",
    "    lower_bound_X_train = Q1_X_train - 1.5 * IQR_X_train\n",
    "    upper_bound_X_train = Q3_X_train + 1.5 * IQR_X_train\n",
    "    X_train = np.clip(X_train, lower_bound_X_train, upper_bound_X_train, axis=1)\n",
    "\n",
    "    # Step 10: Capping outliers using IQR for X_test\n",
    "    Q1_X_test = X_test.quantile(0.25)\n",
    "    Q3_X_test = X_test.quantile(0.75)\n",
    "    IQR_X_test = Q3_X_test - Q1_X_test\n",
    "    lower_bound_X_test = Q1_X_test - 1.5 * IQR_X_test\n",
    "    upper_bound_X_test = Q3_X_test + 1.5 * IQR_X_test\n",
    "    X_test = np.clip(X_test, lower_bound_X_test, upper_bound_X_test, axis=1)\n",
    "\n",
    "    # Step 11: Capping outliers using IQR for y_train\n",
    "    Q1_y_train = y_train.quantile(0.25)\n",
    "    Q3_y_train = y_train.quantile(0.75)\n",
    "    IQR_y_train = Q3_y_train - Q1_y_train\n",
    "    lower_bound_y_train = Q1_y_train - 1.5 * IQR_y_train\n",
    "    upper_bound_y_train = Q3_y_train + 1.5 * IQR_y_train\n",
    "    y_train = np.clip(y_train, lower_bound_y_train, upper_bound_y_train)\n",
    "\n",
    "    # Step 12: Capping outliers using IQR for y_test\n",
    "    Q1_y_test = y_test.quantile(0.25)\n",
    "    Q3_y_test = y_test.quantile(0.75)\n",
    "    IQR_y_test = Q3_y_test - Q1_y_test\n",
    "    lower_bound_y_test = Q1_y_test - 1.5 * IQR_y_test\n",
    "    upper_bound_y_test = Q3_y_test + 1.5 * IQR_y_test\n",
    "    y_test = np.clip(y_test, lower_bound_y_test, upper_bound_y_test)\n",
    "\n",
    "    # Step 13: Fitting the grid search on the preprocessed data\n",
    "    grid_search.fit(X_train, y_train)\n",
    "\n",
    "    # Print the best estimator\n",
    "    print(\"Best Estimator:\", grid_search.best_estimator_)\n",
    "\n",
    "    # Step 14: Evaluating the best estimator on the test set without outliers\n",
    "    y_pred = grid_search.best_estimator_.predict(X_test)\n",
    "\n",
    "    # Calculate and print additional evaluation metrics\n",
    "    mse = mean_squared_error(y_test, y_pred)\n",
    "    mae = mean_absolute_error(y_test, y_pred)\n",
    "    r2 = r2_score(y_test, y_pred)\n",
    "    explained_var = explained_variance_score(y_test, y_pred)\n",
    "    msle = mean_squared_log_error(y_test, y_pred)\n",
    "\n",
    "    print(f\"Mean Squared Error (MSE): {mse}\")\n",
    "    print(f\"Mean Absolute Error (MAE): {mae}\")\n",
    "    print(f\"R-squared (R2): {r2}\")\n",
    "    print(f\"Explained Variance Score: {explained_var}\")\n",
    "    print(f\"Mean Squared Logarithmic Error (MSLE): {msle}\")"
   ]
  },
  {
   "cell_type": "markdown",
   "id": "673fcadd",
   "metadata": {},
   "source": [
    "## Observation from the K-fold cross validation "
   ]
  },
  {
   "cell_type": "markdown",
   "id": "c3bcfc66",
   "metadata": {},
   "source": [
    "#### Checking if outliers was dealt with"
   ]
  },
  {
   "cell_type": "code",
   "execution_count": 106,
   "id": "c72c7e32",
   "metadata": {},
   "outputs": [
    {
     "data": {
      "image/png": "[encoded data removed]",
      "text/plain": [
       "<Figure size 864x360 with 1 Axes>"
      ]
     },
     "metadata": {
      "needs_background": "light"
     },
     "output_type": "display_data"
    }
   ],
   "source": [
    "boxplot(X_train)"
   ]
  },
  {
   "cell_type": "code",
   "execution_count": 107,
   "id": "1ab703f2",
   "metadata": {
    "scrolled": true
   },
   "outputs": [
    {
     "data": {
      "image/png": "[encoded data removed]",
      "text/plain": [
       "<Figure size 864x360 with 1 Axes>"
      ]
     },
     "metadata": {
      "needs_background": "light"
     },
     "output_type": "display_data"
    }
   ],
   "source": [
    "boxplot(X_test)"
   ]
  },
  {
   "cell_type": "markdown",
   "id": "6ccc953b",
   "metadata": {},
   "source": [
    "## Plot of Actual and Predicted values : "
   ]
  },
  {
   "cell_type": "code",
   "execution_count": 108,
   "id": "66f4ab1f",
   "metadata": {},
   "outputs": [
    {
     "data": {
      "image/png": "[encoded data removed]",
      "text/plain": [
       "<Figure size 432x288 with 1 Axes>"
      ]
     },
     "metadata": {
      "needs_background": "light"
     },
     "output_type": "display_data"
    }
   ],
   "source": [
    "plt.scatter(y_test, y_pred, label='Predicted', color='blue')  # Predicted values in blue\n",
    "plt.plot(y_test, y_test, label='Actual', color='red')  # Actual values in red\n",
    "\n",
    "plt.xlabel(\"Actual median_house_value\")\n",
    "plt.ylabel(\"Predicted median_house_value\")\n",
    "plt.legend()  # Show legend to differentiate between actual and predicted values\n",
    "plt.show()"
   ]
  },
  {
   "cell_type": "markdown",
   "id": "b730a401",
   "metadata": {},
   "source": [
    "## Dataframe of Actual and Predicted values : "
   ]
  },
  {
   "cell_type": "code",
   "execution_count": 109,
   "id": "be4417f4",
   "metadata": {},
   "outputs": [],
   "source": [
    "y_test_array = np.array(y_test)\n",
    "y_pred_array = np.array(y_pred)\n",
    "\n",
    "df_results = pd.DataFrame({\n",
    "    'Actual (y_test)': y_test_array,\n",
    "    'Predicted (y_pred)': y_pred_array\n",
    "})"
   ]
  },
  {
   "cell_type": "code",
   "execution_count": 110,
   "id": "9c797884",
   "metadata": {
    "scrolled": true
   },
   "outputs": [
    {
     "data": {
      "text/html": [
       "<div>\n",
       "<style scoped>\n",
       "    .dataframe tbody tr th:only-of-type {\n",
       "        vertical-align: middle;\n",
       "    }\n",
       "\n",
       "    .dataframe tbody tr th {\n",
       "        vertical-align: top;\n",
       "    }\n",
       "\n",
       "    .dataframe thead th {\n",
       "        text-align: right;\n",
       "    }\n",
       "</style>\n",
       "<table border=\"1\" class=\"dataframe\">\n",
       "  <thead>\n",
       "    <tr style=\"text-align: right;\">\n",
       "      <th></th>\n",
       "      <th>Actual (y_test)</th>\n",
       "      <th>Predicted (y_pred)</th>\n",
       "    </tr>\n",
       "  </thead>\n",
       "  <tbody>\n",
       "    <tr>\n",
       "      <th>0</th>\n",
       "      <td>281300.0</td>\n",
       "      <td>289160.579563</td>\n",
       "    </tr>\n",
       "    <tr>\n",
       "      <th>1</th>\n",
       "      <td>490850.0</td>\n",
       "      <td>340055.341865</td>\n",
       "    </tr>\n",
       "    <tr>\n",
       "      <th>2</th>\n",
       "      <td>217800.0</td>\n",
       "      <td>260414.747619</td>\n",
       "    </tr>\n",
       "    <tr>\n",
       "      <th>3</th>\n",
       "      <td>225000.0</td>\n",
       "      <td>211735.060516</td>\n",
       "    </tr>\n",
       "    <tr>\n",
       "      <th>4</th>\n",
       "      <td>366200.0</td>\n",
       "      <td>416598.993155</td>\n",
       "    </tr>\n",
       "  </tbody>\n",
       "</table>\n",
       "</div>"
      ],
      "text/plain": [
       "   Actual (y_test)  Predicted (y_pred)\n",
       "0         281300.0       289160.579563\n",
       "1         490850.0       340055.341865\n",
       "2         217800.0       260414.747619\n",
       "3         225000.0       211735.060516\n",
       "4         366200.0       416598.993155"
      ]
     },
     "execution_count": 110,
     "metadata": {},
     "output_type": "execute_result"
    }
   ],
   "source": [
    "df_results.head()"
   ]
  },
  {
   "cell_type": "markdown",
   "id": "944f2f2d",
   "metadata": {},
   "source": [
    "## D. MODEL DEPLOYMENT FOR STREAMLIT APPLICATION"
   ]
  },
  {
   "cell_type": "code",
   "execution_count": 51,
   "id": "18c11b30",
   "metadata": {},
   "outputs": [
    {
     "name": "stdout",
     "output_type": "stream",
     "text": [
      "Requirement already satisfied: joblib in c:\\users\\rrond\\anaconda3\\lib\\site-packages (1.1.0)\n"
     ]
    }
   ],
   "source": [
    "!pip install joblib"
   ]
  },
  {
   "cell_type": "code",
   "execution_count": 53,
   "id": "b904b99a-f711-4227-8c48-e891c869880c",
   "metadata": {},
   "outputs": [
    {
     "data": {
      "text/plain": [
       "['RF_model.joblib']"
      ]
     },
     "execution_count": 53,
     "metadata": {},
     "output_type": "execute_result"
    }
   ],
   "source": [
    "# Save the model to a file\n",
    "model_filename = 'RF_model.joblib'\n",
    "joblib.dump(rf_reg, model_filename)"
   ]
  },
  {
   "cell_type": "code",
   "execution_count": null,
   "id": "cbe9a55b-7d58-4105-93ec-932a55cfe27e",
   "metadata": {},
   "outputs": [],
   "source": []
  },
  {
   "cell_type": "markdown",
   "id": "3b965a3e",
   "metadata": {},
   "source": [
    "## FINAL CONCLUDSION "
   ]
  },
  {
   "cell_type": "markdown",
   "id": "48e8d3e0",
   "metadata": {},
   "source": [
    "The objective of the project was developing a robust predictive moedle that coule be use to predict the median_house_value. I  use random forest regressor to do this and it was integrated into a feature selection pipeline. The project involves the following steps: \n",
    "- Exploratory Data Analysis. \n",
    "- Preprocesssing. \n",
    "- model building. \n",
    "- deployment of my model.\n",
    "We employed a pipeline that incorporated a ColumnTransformer for feature scaling and a Recursive Feature Elimination with Cross-Validation (RFECV) to automatically select the most relevant features. The Random Forest Regressor served as our predictive model, and we fine-tuned its hyperparameters using an exhaustive GridSearchCV.\n",
    "\n",
    "After fitting the model withing a k-fold cross-validation loop, we evaluated the perfomance on multiple test sets and use the best estimator from our grid search which demonstrated a very strong predictive capabilities.\n",
    "The R2 was around 0.81 indicating that about 81% of the variance of the median_house_value. was explain by my model and also good for unseen data."
   ]
  },
  {
   "cell_type": "code",
   "execution_count": null,
   "id": "0091a6f5",
   "metadata": {},
   "outputs": [],
   "source": []
  },
  {
   "cell_type": "code",
   "execution_count": null,
   "id": "5ec917e2",
   "metadata": {},
   "outputs": [],
   "source": []
  },
  {
   "cell_type": "code",
   "execution_count": null,
   "id": "8e4f0850",
   "metadata": {},
   "outputs": [],
   "source": []
  }
 ],
 "metadata": {
  "kernelspec": {
   "display_name": "Python 3 (ipykernel)",
   "language": "python",
   "name": "python3"
  },
  "language_info": {
   "codemirror_mode": {
    "name": "ipython",
    "version": 3
   },
   "file_extension": ".py",
   "mimetype": "text/x-python",
   "name": "python",
   "nbconvert_exporter": "python",
   "pygments_lexer": "ipython3",
   "version": "3.9.12"
  }
 },
 "nbformat": 4,
 "nbformat_minor": 5
}
